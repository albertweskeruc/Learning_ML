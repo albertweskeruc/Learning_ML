{
  "nbformat": 4,
  "nbformat_minor": 0,
  "metadata": {
    "colab": {
      "name": "Rodriguez_Abel_LAB2_ML.ipynb",
      "provenance": [],
      "collapsed_sections": [
        "5kh0p-VEv6DE",
        "B9CM--vgJoa6",
        "KyPJxJjMfMKw",
        "1f4MFdPtZRoo",
        "1MWsFk6vfcXe",
        "KyfsJ6rbftr_",
        "mT0XuEuy_0an",
        "IAIC8CDxJ0nA",
        "lpxVYJYFf00I",
        "kpsVWXonADtU",
        "pgOW6dJnv1Rp",
        "tCSuHfV_vz7M"
      ]
    },
    "kernelspec": {
      "name": "python3",
      "display_name": "Python 3"
    },
    "language_info": {
      "name": "python"
    }
  },
  "cells": [
    {
      "cell_type": "markdown",
      "metadata": {
        "id": "5kh0p-VEv6DE"
      },
      "source": [
        "# **Part 1:**\n",
        "Write, as a text cell, the sequence of steps that you need to perform in order to fullfill your mission.\n",
        "Recall that your mission consists of providing the following:\n",
        "\n",
        "\n",
        "\n",
        "*   **Classifier**, a trained sklearn model that they can use to predict \n",
        "     potability from the 9 attributes mentioned above\n",
        "*   **Accuracy**, a floating point value between 0 and 1 indicating how   \n",
        "     accurate you expect your model to be when used on data not included in \n",
        "     the file provided.\n",
        "\n",
        "For this assignment, limit your choice of classfiers to **k-nearest neighbors, naive Bayes and decision trees.**\n",
        "\n",
        "You may use the sklearn implementations of all classifiers."
      ]
    },
    {
      "cell_type": "markdown",
      "metadata": {
        "id": "6gHMjgrMv6O0"
      },
      "source": [
        "Steps on how I would approach and split the problem\n",
        "\n",
        "1.   Upload Data from water_potability.xlsx using \n",
        "2.   Read data and store into a data frame variable using Pandas \n",
        "3.   Read data and store into a data frame variable using Pandas \n",
        "     Convert data frame into 2 seperate numpy arrays, where one will be a 1-D \n",
        "     array and the other will be a 2-d array\n",
        "    *   1-D array will represent y_values of if water is safe to drink or not,\n",
        "        which is taken from the entire column of values from the last column \n",
        "        in the data whoch is column index 9\n",
        "    *   2-D array will represent x_values of water samples and their 9 \n",
        "        attributes which is taken from the entire column of values from \n",
        "        column index 0 to 8\n",
        "\n",
        "4.  Split both arrays into 3 sets (either  80% train by 20% test or 90% train by 10% test)  where one set will be used for training the model and the other will be used for testing the the accuracy of the models prediction. (x_train, y_train, x_test, y_test)\n",
        "5. To ensure we have enough data to work with and be able to create the best possible accuracy, I will check every model I train and test with a dataset of 70%_train by 30%_test(added this)dataset of 80%_train by 20%_test and a dataset of 90%_train by 10%_test.\n",
        "\n",
        "6. Utilize and test as many models and parameters as we can that will help either improve accuracy/MSE and/04 speed for the test data while also seeing which 3 data set splits work best for each model\n",
        "\n",
        "7. Two main groups of models will be used, classification and regressor identitied. Classification has Knn classification, naive bayes, and decision trees. Regressor has Knn and decision trees.\n",
        "\n",
        "\n",
        "8. Go through each group and see which model and algorithm produces the best speed and accuracy from comparing the results from the default parameter vs the results with adding changes to the parameters. \n",
        "\n",
        "9. Notice the how the results differ from using the 3 different dataset splits, combination of paramters altered, and choose the best algorithm and paramters for each model to compare at the end with best of the others in the group.\n",
        "\n",
        "10. For both KNN classification and regressor, will test 3 different dataset splits, test default knn, then test a mix and match parameter alterations between weighted vs unweighted knn, changing the value of n, and the knn's different algorithms with sklearn's auto, ball_tree, kd_tree, and brute. \n",
        "\n",
        "11. The Naive Bayes has 4 different versions from, Gaussian,\tMultinomial, complement, and berouli. Will test defaults on all, will test changes in  alpha/smoothing value for Multinomial, complement, and berouli, and will lastly test changes in binarize value for bernouli.\n",
        "\n",
        "\n",
        "12. Decision Trees Classification has two main splitting algorithm which are entropy and gini which will be both bested. Each algorithm will be tested with their default paramters, testing best/random splitter, discovering their max_depth in which they prduce the best result, and alter random_state's value. (also Tested the change of max_feature for entropy after noticing the effects it had on the regressor model later on)\n",
        "\n",
        "13. Decision Trees regressor Each algorithm will be tested with their default paramters, algorithm/criterion that determines how the tree splits, best/random splitter, discovering their max_depth in which they produce the best result. (Discovered recently change in max_features)\n",
        "\n",
        "14. After changing various of paramater changes for each model, compare results within its model, attempt to discover best result from mix and matching paramters with their set of changes, and then pick the best of that model. \n",
        "\n",
        "15. The best model in my decision is taking into consideration accuracy more than speed due to it would be best to give a model/program with better accuracy vs speed due to the nature of the problem which concerns if the water is safe to drink\n",
        "\n",
        "16. While going through testing various models and their parameters, our goal for every model is to first get ther best and CONSISTENT accuracy/results, the get the best speed for that accuracy, and noting down interesting behaviors/relations.\n",
        "\n",
        "17. if possible, do extra credit \n",
        "\n",
        "\n",
        "\n"
      ]
    },
    {
      "cell_type": "markdown",
      "metadata": {
        "id": "rEUt2g9eJLZK"
      },
      "source": [
        "Extra credit steps \n",
        "\n"
      ]
    },
    {
      "cell_type": "markdown",
      "metadata": {
        "id": "PWqZ24nZwlGW"
      },
      "source": [
        "# **Part 2.** \n",
        "Implement the steps described above as a Python program."
      ]
    },
    {
      "cell_type": "code",
      "metadata": {
        "colab": {
          "resources": {
            "http://localhost:8080/nbextensions/google.colab/files.js": {
              "data": "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",
              "ok": true,
              "headers": [
                [
                  "content-type",
                  "application/javascript"
                ]
              ],
              "status": 200,
              "status_text": ""
            }
          },
          "base_uri": "https://localhost:8080/",
          "height": 73
        },
        "id": "BEmNsmkRwpNH",
        "outputId": "ea40a2d7-44d1-493e-bfba-bb7a4d2813b9"
      },
      "source": [
        "#upload file/files\n",
        "from google.colab import files\n",
        "uploaded = files.upload()"
      ],
      "execution_count": null,
      "outputs": [
        {
          "output_type": "display_data",
          "data": {
            "text/html": [
              "\n",
              "     <input type=\"file\" id=\"files-4be7736c-5b8b-4ca9-9d55-5dd90832ef0a\" name=\"files[]\" multiple disabled\n",
              "        style=\"border:none\" />\n",
              "     <output id=\"result-4be7736c-5b8b-4ca9-9d55-5dd90832ef0a\">\n",
              "      Upload widget is only available when the cell has been executed in the\n",
              "      current browser session. Please rerun this cell to enable.\n",
              "      </output>\n",
              "      <script src=\"/nbextensions/google.colab/files.js\"></script> "
            ],
            "text/plain": [
              "<IPython.core.display.HTML object>"
            ]
          },
          "metadata": {}
        },
        {
          "output_type": "stream",
          "name": "stdout",
          "text": [
            "Saving water_potability.xlsx to water_potability.xlsx\n"
          ]
        }
      ]
    },
    {
      "cell_type": "code",
      "metadata": {
        "colab": {
          "base_uri": "https://localhost:8080/"
        },
        "id": "gtx_omVhwtCM",
        "outputId": "efb537b7-dc0a-4e82-80ba-97e5dc5297e6"
      },
      "source": [
        "!ls #check file is in colab before starting"
      ],
      "execution_count": null,
      "outputs": [
        {
          "output_type": "stream",
          "name": "stdout",
          "text": [
            "sample_data  water_potability.xlsx\n"
          ]
        }
      ]
    },
    {
      "cell_type": "code",
      "metadata": {
        "id": "gt0opL0gwxKT"
      },
      "source": [
        "import numpy as np\n",
        "import matplotlib.pyplot as plt\n",
        "import pandas as pd\n",
        "import time\n",
        "from sklearn.metrics import accuracy_score, confusion_matrix,mean_squared_error,mean_absolute_error\n",
        "from sklearn.metrics import confusion_matrix\n",
        "\n",
        "from sklearn.neighbors import KNeighborsClassifier\n",
        "from sklearn.tree import DecisionTreeClassifier\n",
        "from sklearn.naive_bayes import GaussianNB, MultinomialNB, ComplementNB, BernoulliNB\n",
        "\n",
        "from sklearn.neighbors import KNeighborsRegressor\n",
        "from sklearn.tree import DecisionTreeRegressor\n",
        "\n",
        "from sklearn.ensemble import BaggingRegressor\n",
        "from sklearn.model_selection import train_test_split\n",
        "from sklearn.preprocessing import StandardScaler\n",
        "from sklearn import tree\n",
        "from google.colab import files\n",
        "\n",
        "water_df = pd.read_excel('water_potability.xlsx')\n",
        "\n",
        "water_np = water_df.to_numpy() #(2011,10)\n",
        "\n",
        "\n",
        "#split data into X dataset (water samples and their 9 attributes) \n",
        "#and y_values pair (potability found in last column)\n",
        "X = water_np[:,0:9] #(2011, 9) 2-d array\n",
        "y = water_np[:,9]   #(2011, 1) 1-d\n",
        "\n",
        "# 80% by 20% row split = 1608, 403\n",
        "# 90% by 10% row split = 1809, 202\n",
        "# random_state=42, popular int random seed (controls randomness)\n",
        "\n",
        "rs = 42  #Popular/common int value for random_state 0 and 42\n",
        "\n",
        "#testing 3 sizes of data set splits in all algorithms\n",
        "x70_train, x30_test, y70_train, y30_test = train_test_split(X, y, test_size=0.3, train_size = .7, random_state=rs)\n",
        "x80_train, x20_test, y80_train, y20_test = train_test_split(X, y, test_size=0.2, train_size = .8, random_state=rs)\n",
        "x90_train, x10_test, y90_train, y10_test = train_test_split(X, y, test_size=0.1, train_size = .9, random_state=rs)\n"
      ],
      "execution_count": null,
      "outputs": []
    },
    {
      "cell_type": "markdown",
      "metadata": {
        "id": "B9CM--vgJoa6"
      },
      "source": [
        "# Test out Classifers based on accuracy\n",
        "\n",
        "1. knn default vs knn mod_paramters\n",
        "\n",
        "2. Naive Bayes default vs Naive Bayes mod_paramters\n",
        "\n",
        "3. Decision Tree default vs decision tree mod_paramters"
      ]
    },
    {
      "cell_type": "markdown",
      "metadata": {
        "id": "KyPJxJjMfMKw"
      },
      "source": [
        "#**Knn-Classification model**"
      ]
    },
    {
      "cell_type": "code",
      "metadata": {
        "colab": {
          "base_uri": "https://localhost:8080/"
        },
        "id": "STEWpaKxKaxe",
        "outputId": "dac87247-7963-4f3d-9a2e-887043623c0f"
      },
      "source": [
        "#default knn \n",
        "\n",
        "def default_knnC(xtr, ytr, xte, yte):\n",
        "  start = time.time()\n",
        "  model = KNeighborsClassifier().fit(xtr, ytr)\n",
        "\n",
        "  pred = model.predict(xte)\n",
        "  accuracy = accuracy_score(yte, pred)\n",
        "  print(f'Default unweighted knn Accuracy = {accuracy:.4}')\n",
        "\n",
        "  #default_knn_accuracy = default_knn.score(xte,yte)\n",
        "  #print(\"Knn Accuracy \", default_knn_accuracy)\n",
        "\n",
        "  elapsed_time = time.time() - start\n",
        "  print('Elapsed time = {:.4f} secs'.format(elapsed_time))\n",
        "\n",
        "def defaultW_knnC(xtr, ytr, xte, yte):\n",
        "  start = time.time()\n",
        "  model = KNeighborsClassifier(weights = 'distance').fit(xtr, ytr)\n",
        "\n",
        "  pred = model.predict(xte)\n",
        "  accuracy = accuracy_score(yte, pred)\n",
        "  print(f'Default Weighted knn Accuracy = {accuracy:.4}')\n",
        "\n",
        "  #default_knn_accuracy = default_knn.score(xte,yte)\n",
        "  #print(\"Knn Accuracy \", default_knn_accuracy)\n",
        "\n",
        "  elapsed_time = time.time() - start\n",
        "  print('Elapsed time = {:.4f} secs'.format(elapsed_time))\n",
        "\n",
        "print(\"default knn\")\n",
        "default_knnC(x70_train, y70_train, x30_test, y30_test)\n",
        "default_knnC(x80_train, y80_train, x20_test, y20_test)\n",
        "default_knnC(x90_train, y90_train, x10_test, y10_test)\n",
        "\n",
        "print()\n",
        "print(\"default weighted knn\")\n",
        "defaultW_knnC(x70_train, y70_train, x30_test, y30_test)\n",
        "defaultW_knnC(x80_train, y80_train, x20_test, y20_test)\n",
        "defaultW_knnC(x90_train, y90_train, x10_test, y10_test)\n",
        "\n"
      ],
      "execution_count": null,
      "outputs": [
        {
          "output_type": "stream",
          "name": "stdout",
          "text": [
            "default knn\n",
            "Default unweighted knn Accuracy = 0.5579\n",
            "Elapsed time = 0.0279 secs\n",
            "Default unweighted knn Accuracy = 0.5434\n",
            "Elapsed time = 0.0181 secs\n",
            "Default unweighted knn Accuracy = 0.5495\n",
            "Elapsed time = 0.0115 secs\n",
            "\n",
            "default weighted knn\n",
            "Default Weighted knn Accuracy = 0.5546\n",
            "Elapsed time = 0.0070 secs\n",
            "Default Weighted knn Accuracy = 0.5285\n",
            "Elapsed time = 0.0056 secs\n",
            "Default Weighted knn Accuracy = 0.5545\n",
            "Elapsed time = 0.0051 secs\n"
          ]
        }
      ]
    },
    {
      "cell_type": "markdown",
      "metadata": {
        "id": "u9NrBFbMIgAn"
      },
      "source": [
        "Changed N manually and was getting better accuracy results as k increased and \n"
      ]
    },
    {
      "cell_type": "code",
      "metadata": {
        "colab": {
          "base_uri": "https://localhost:8080/"
        },
        "id": "S1WZ3VG_EVnC",
        "outputId": "ae00b4f5-5852-4392-f719-33ecd34fb905"
      },
      "source": [
        "#ball_tree weighted and unweighted version with \n",
        "#ability to change n \n",
        "\n",
        "def ball_tree_knnC(xtr, ytr, xte, yte, n = 15):\n",
        "  start = time.time()\n",
        "  model = KNeighborsClassifier(n_neighbors=n, algorithm='ball_tree').fit(xtr, ytr)\n",
        "\n",
        "  pred = model.predict(xte)\n",
        "  accuracy = accuracy_score(yte, pred)\n",
        "  print(f'unweighted KNN balltree Accuracy = {accuracy:.4}')\n",
        "\n",
        "  #default_knn_accuracy = default_knn.score(xte,yte)\n",
        "  #print(\"Knn Accuracy \", default_knn_accuracy)\n",
        "\n",
        "  elapsed_time = time.time() - start\n",
        "  print('Elapsed time = {:.4f} secs'.format(elapsed_time))\n",
        "\n",
        "def Wball_tree_knnC(xtr, ytr, xte, yte, n=15):\n",
        "  start = time.time()\n",
        "  model = KNeighborsClassifier(n_neighbors=n, weights = 'distance', algorithm='ball_tree').fit(xtr, ytr)\n",
        "\n",
        "  pred = model.predict(xte)\n",
        "  accuracy = accuracy_score(yte, pred)\n",
        "  print(f'weighted KNN balltree Accuracy = {accuracy:.4}')\n",
        "\n",
        "  #default_knn_accuracy = default_knn.score(xte,yte)\n",
        "  #print(\"Knn Accuracy \", default_knn_accuracy)\n",
        "\n",
        "  elapsed_time = time.time() - start\n",
        "  print('Elapsed time = {:.4f} secs'.format(elapsed_time))\n",
        "\n",
        "for n in range(11, 18, 2):\n",
        "  print(\"balltree unweighted with n = \", n)\n",
        "  ball_tree_knnC(x70_train, y70_train, x30_test, y30_test, n)\n",
        "  ball_tree_knnC(x80_train, y80_train, x20_test, y20_test, n)\n",
        "  ball_tree_knnC(x90_train, y90_train, x10_test, y10_test, n)\n",
        "  print()\n",
        "  print(\"balltree weighted with n = \", n)\n",
        "  Wball_tree_knnC(x70_train, y70_train, x30_test, y30_test, n)\n",
        "  Wball_tree_knnC(x80_train, y80_train, x20_test, y20_test, n)\n",
        "  Wball_tree_knnC(x90_train, y90_train, x10_test, y10_test, n)\n",
        "  print()"
      ],
      "execution_count": null,
      "outputs": [
        {
          "output_type": "stream",
          "name": "stdout",
          "text": [
            "balltree unweighted with n =  11\n",
            "unweighted KNN balltree Accuracy = 0.5762\n",
            "Elapsed time = 0.0312 secs\n",
            "unweighted KNN balltree Accuracy = 0.5806\n",
            "Elapsed time = 0.0188 secs\n",
            "unweighted KNN balltree Accuracy = 0.5693\n",
            "Elapsed time = 0.0115 secs\n",
            "\n",
            "balltree weighted with n =  11\n",
            "weighted KNN balltree Accuracy = 0.5613\n",
            "Elapsed time = 0.0070 secs\n",
            "weighted KNN balltree Accuracy = 0.5533\n",
            "Elapsed time = 0.0070 secs\n",
            "weighted KNN balltree Accuracy = 0.5644\n",
            "Elapsed time = 0.0052 secs\n",
            "\n",
            "balltree unweighted with n =  13\n",
            "unweighted KNN balltree Accuracy = 0.5579\n",
            "Elapsed time = 0.0300 secs\n",
            "unweighted KNN balltree Accuracy = 0.5682\n",
            "Elapsed time = 0.0191 secs\n",
            "unweighted KNN balltree Accuracy = 0.5594\n",
            "Elapsed time = 0.0112 secs\n",
            "\n",
            "balltree weighted with n =  13\n",
            "weighted KNN balltree Accuracy = 0.5629\n",
            "Elapsed time = 0.0097 secs\n",
            "weighted KNN balltree Accuracy = 0.5558\n",
            "Elapsed time = 0.0074 secs\n",
            "weighted KNN balltree Accuracy = 0.5297\n",
            "Elapsed time = 0.0050 secs\n",
            "\n",
            "balltree unweighted with n =  15\n",
            "unweighted KNN balltree Accuracy = 0.5629\n",
            "Elapsed time = 0.0267 secs\n",
            "unweighted KNN balltree Accuracy = 0.5732\n",
            "Elapsed time = 0.0252 secs\n",
            "unweighted KNN balltree Accuracy = 0.5644\n",
            "Elapsed time = 0.0125 secs\n",
            "\n",
            "balltree weighted with n =  15\n",
            "weighted KNN balltree Accuracy = 0.5596\n",
            "Elapsed time = 0.0101 secs\n",
            "weighted KNN balltree Accuracy = 0.5782\n",
            "Elapsed time = 0.0084 secs\n",
            "weighted KNN balltree Accuracy = 0.5347\n",
            "Elapsed time = 0.0104 secs\n",
            "\n",
            "balltree unweighted with n =  17\n",
            "unweighted KNN balltree Accuracy = 0.5646\n",
            "Elapsed time = 0.0311 secs\n",
            "unweighted KNN balltree Accuracy = 0.5608\n",
            "Elapsed time = 0.0191 secs\n",
            "unweighted KNN balltree Accuracy = 0.5743\n",
            "Elapsed time = 0.0152 secs\n",
            "\n",
            "balltree weighted with n =  17\n",
            "weighted KNN balltree Accuracy = 0.5778\n",
            "Elapsed time = 0.0086 secs\n",
            "weighted KNN balltree Accuracy = 0.5806\n",
            "Elapsed time = 0.0073 secs\n",
            "weighted KNN balltree Accuracy = 0.5446\n",
            "Elapsed time = 0.0055 secs\n",
            "\n"
          ]
        }
      ]
    },
    {
      "cell_type": "code",
      "metadata": {
        "colab": {
          "base_uri": "https://localhost:8080/"
        },
        "id": "NjiEOjPQDd6r",
        "outputId": "752e753b-7468-4dea-a7dd-1ebf7c6907ed"
      },
      "source": [
        "#kd_tree weighted and unweighted, with ablility to change n\n",
        "\n",
        "def kd_tree_knnC(xtr, ytr, xte, yte, n = 15):\n",
        "  start = time.time()\n",
        "  model = KNeighborsClassifier(n_neighbors=n, algorithm='kd_tree').fit(xtr, ytr)\n",
        "\n",
        "  pred = model.predict(xte)\n",
        "  accuracy = accuracy_score(yte, pred)\n",
        "  print(f'unweighted KNN kdtree Accuracy = {accuracy:.4}')\n",
        "\n",
        "  #default_knn_accuracy = default_knn.score(xte,yte)\n",
        "  #print(\"Knn Accuracy \", default_knn_accuracy)\n",
        "\n",
        "  elapsed_time = time.time() - start\n",
        "  print('Elapsed time = {:.4f} secs'.format(elapsed_time))\n",
        "\n",
        "def Wkd_tree_knnC(xtr, ytr, xte, yte, n = 15):\n",
        "  start = time.time()\n",
        "  model = KNeighborsClassifier(n_neighbors=n, weights = 'distance', algorithm='kd_tree').fit(xtr, ytr)\n",
        "\n",
        "  pred = model.predict(xte)\n",
        "  accuracy = accuracy_score(yte, pred)\n",
        "  print(f'Weighted KNN tdtree Accuracy = {accuracy:.4}')\n",
        "\n",
        "  #default_knn_accuracy = default_knn.score(xte,yte)\n",
        "  #print(\"Knn Accuracy \", default_knn_accuracy)\n",
        "\n",
        "  elapsed_time = time.time() - start\n",
        "  print('Elapsed time = {:.4f} secs'.format(elapsed_time))\n",
        "\n",
        "for n in range(11, 18, 2):\n",
        "  print(\"kdtree unweighted with n = \", n)\n",
        "  kd_tree_knnC(x70_train, y70_train, x30_test, y30_test, n)\n",
        "  kd_tree_knnC(x80_train, y80_train, x20_test, y20_test, n)\n",
        "  kd_tree_knnC(x90_train, y90_train, x10_test, y10_test, n)\n",
        "  print()\n",
        "  print(\"kdtree weighted with n = \", n)\n",
        "  Wkd_tree_knnC(x70_train, y70_train, x30_test, y30_test, n)\n",
        "  Wkd_tree_knnC(x80_train, y80_train, x20_test, y20_test, n)\n",
        "  Wkd_tree_knnC(x90_train, y90_train, x10_test, y10_test, n)\n",
        "  print()"
      ],
      "execution_count": null,
      "outputs": [
        {
          "output_type": "stream",
          "name": "stdout",
          "text": [
            "kdtree unweighted with n =  11\n",
            "unweighted KNN kdtree Accuracy = 0.5762\n",
            "Elapsed time = 0.0277 secs\n",
            "unweighted KNN kdtree Accuracy = 0.5806\n",
            "Elapsed time = 0.0199 secs\n",
            "unweighted KNN kdtree Accuracy = 0.5693\n",
            "Elapsed time = 0.0141 secs\n",
            "\n",
            "kdtree weighted with n =  11\n",
            "Weighted KNN tdtree Accuracy = 0.5613\n",
            "Elapsed time = 0.0055 secs\n",
            "Weighted KNN tdtree Accuracy = 0.5533\n",
            "Elapsed time = 0.0050 secs\n",
            "Weighted KNN tdtree Accuracy = 0.5644\n",
            "Elapsed time = 0.0051 secs\n",
            "\n",
            "kdtree unweighted with n =  13\n",
            "unweighted KNN kdtree Accuracy = 0.5579\n",
            "Elapsed time = 0.0241 secs\n",
            "unweighted KNN kdtree Accuracy = 0.5682\n",
            "Elapsed time = 0.0185 secs\n",
            "unweighted KNN kdtree Accuracy = 0.5594\n",
            "Elapsed time = 0.0157 secs\n",
            "\n",
            "kdtree weighted with n =  13\n",
            "Weighted KNN tdtree Accuracy = 0.5629\n",
            "Elapsed time = 0.0079 secs\n",
            "Weighted KNN tdtree Accuracy = 0.5558\n",
            "Elapsed time = 0.0053 secs\n",
            "Weighted KNN tdtree Accuracy = 0.5297\n",
            "Elapsed time = 0.0045 secs\n",
            "\n",
            "kdtree unweighted with n =  15\n",
            "unweighted KNN kdtree Accuracy = 0.5629\n",
            "Elapsed time = 0.0257 secs\n",
            "unweighted KNN kdtree Accuracy = 0.5732\n",
            "Elapsed time = 0.0208 secs\n",
            "unweighted KNN kdtree Accuracy = 0.5644\n",
            "Elapsed time = 0.0111 secs\n",
            "\n",
            "kdtree weighted with n =  15\n",
            "Weighted KNN tdtree Accuracy = 0.5596\n",
            "Elapsed time = 0.0071 secs\n",
            "Weighted KNN tdtree Accuracy = 0.5782\n",
            "Elapsed time = 0.0065 secs\n",
            "Weighted KNN tdtree Accuracy = 0.5347\n",
            "Elapsed time = 0.0073 secs\n",
            "\n",
            "kdtree unweighted with n =  17\n",
            "unweighted KNN kdtree Accuracy = 0.5646\n",
            "Elapsed time = 0.0309 secs\n",
            "unweighted KNN kdtree Accuracy = 0.5608\n",
            "Elapsed time = 0.0286 secs\n",
            "unweighted KNN kdtree Accuracy = 0.5743\n",
            "Elapsed time = 0.0106 secs\n",
            "\n",
            "kdtree weighted with n =  17\n",
            "Weighted KNN tdtree Accuracy = 0.5778\n",
            "Elapsed time = 0.0076 secs\n",
            "Weighted KNN tdtree Accuracy = 0.5806\n",
            "Elapsed time = 0.0071 secs\n",
            "Weighted KNN tdtree Accuracy = 0.5446\n",
            "Elapsed time = 0.0057 secs\n",
            "\n"
          ]
        }
      ]
    },
    {
      "cell_type": "code",
      "metadata": {
        "colab": {
          "base_uri": "https://localhost:8080/"
        },
        "id": "4976NGy8DeNa",
        "outputId": "c8cbe672-7648-4a2c-cf8b-6c2cbf4c80f4"
      },
      "source": [
        "#worst algorithm\n",
        "\n",
        "#brute weighted and unweighted\n",
        "\n",
        "def brute_knnC(xtr, ytr, xte, yte, n = 15):\n",
        "  start = time.time()\n",
        "  model = KNeighborsClassifier(n_neighbors=n, algorithm='brute').fit(xtr, ytr)\n",
        "\n",
        "  pred = model.predict(xte)\n",
        "  accuracy = accuracy_score(yte, pred)\n",
        "  print(f'unweighted KNN brute Accuracy = {accuracy:.4}')\n",
        "\n",
        "  #default_knn_accuracy = default_knn.score(xte,yte)\n",
        "  #print(\"Knn Accuracy \", default_knn_accuracy)\n",
        "\n",
        "  elapsed_time = time.time() - start\n",
        "  print('Elapsed time = {:.4f} secs'.format(elapsed_time))\n",
        "\n",
        "def Wbrute_knnC(xtr, ytr, xte, yte, n = 15):\n",
        "  start = time.time()\n",
        "  model = KNeighborsClassifier(n_neighbors=n, weights = 'distance', algorithm='brute').fit(xtr, ytr)\n",
        "\n",
        "  pred = model.predict(xte)\n",
        "  accuracy = accuracy_score(yte, pred)\n",
        "  print(f'weighted KNN brute Accuracy = {accuracy:.4}')\n",
        "\n",
        "  #default_knn_accuracy = default_knn.score(xte,yte)\n",
        "  #print(\"Knn Accuracy \", default_knn_accuracy)\n",
        "\n",
        "  elapsed_time = time.time() - start\n",
        "  print('Elapsed time = {:.4f} secs'.format(elapsed_time))\n",
        "\n",
        "for n in range(11, 18, 2):\n",
        "  print(\"brute unweighted with n = \", n)\n",
        "  brute_knnC(x70_train, y70_train, x30_test, y30_test)\n",
        "  brute_knnC(x80_train, y80_train, x20_test, y20_test)\n",
        "  brute_knnC(x90_train, y90_train, x10_test, y10_test)\n",
        "\n",
        "  print(\"brute weighted with n = \", n)\n",
        "  Wbrute_knnC(x70_train, y70_train, x30_test, y30_test)\n",
        "  Wbrute_knnC(x80_train, y80_train, x20_test, y20_test)\n",
        "  Wbrute_knnC(x90_train, y90_train, x10_test, y10_test)\n",
        "  print()"
      ],
      "execution_count": null,
      "outputs": [
        {
          "output_type": "stream",
          "name": "stdout",
          "text": [
            "brute unweighted with n =  11\n",
            "unweighted KNN brute Accuracy = 0.5629\n",
            "Elapsed time = 0.0723 secs\n",
            "unweighted KNN brute Accuracy = 0.5732\n",
            "Elapsed time = 0.0493 secs\n",
            "unweighted KNN brute Accuracy = 0.5644\n",
            "Elapsed time = 0.0259 secs\n",
            "brute weighted with n =  11\n",
            "weighted KNN brute Accuracy = 0.5596\n",
            "Elapsed time = 0.0236 secs\n",
            "weighted KNN brute Accuracy = 0.5782\n",
            "Elapsed time = 0.0185 secs\n",
            "weighted KNN brute Accuracy = 0.5347\n",
            "Elapsed time = 0.0138 secs\n",
            "\n",
            "brute unweighted with n =  13\n",
            "unweighted KNN brute Accuracy = 0.5629\n",
            "Elapsed time = 0.0586 secs\n",
            "unweighted KNN brute Accuracy = 0.5732\n",
            "Elapsed time = 0.0392 secs\n",
            "unweighted KNN brute Accuracy = 0.5644\n",
            "Elapsed time = 0.0295 secs\n",
            "brute weighted with n =  13\n",
            "weighted KNN brute Accuracy = 0.5596\n",
            "Elapsed time = 0.0231 secs\n",
            "weighted KNN brute Accuracy = 0.5782\n",
            "Elapsed time = 0.0186 secs\n",
            "weighted KNN brute Accuracy = 0.5347\n",
            "Elapsed time = 0.0125 secs\n",
            "\n",
            "brute unweighted with n =  15\n",
            "unweighted KNN brute Accuracy = 0.5629\n",
            "Elapsed time = 0.0607 secs\n",
            "unweighted KNN brute Accuracy = 0.5732\n",
            "Elapsed time = 0.0375 secs\n",
            "unweighted KNN brute Accuracy = 0.5644\n",
            "Elapsed time = 0.0247 secs\n",
            "brute weighted with n =  15\n",
            "weighted KNN brute Accuracy = 0.5596\n",
            "Elapsed time = 0.0298 secs\n",
            "weighted KNN brute Accuracy = 0.5782\n",
            "Elapsed time = 0.0178 secs\n",
            "weighted KNN brute Accuracy = 0.5347\n",
            "Elapsed time = 0.0118 secs\n",
            "\n",
            "brute unweighted with n =  17\n",
            "unweighted KNN brute Accuracy = 0.5629\n",
            "Elapsed time = 0.0489 secs\n",
            "unweighted KNN brute Accuracy = 0.5732\n",
            "Elapsed time = 0.0434 secs\n",
            "unweighted KNN brute Accuracy = 0.5644\n",
            "Elapsed time = 0.0208 secs\n",
            "brute weighted with n =  17\n",
            "weighted KNN brute Accuracy = 0.5596\n",
            "Elapsed time = 0.0246 secs\n",
            "weighted KNN brute Accuracy = 0.5782\n",
            "Elapsed time = 0.0196 secs\n",
            "weighted KNN brute Accuracy = 0.5347\n",
            "Elapsed time = 0.0143 secs\n",
            "\n"
          ]
        }
      ]
    },
    {
      "cell_type": "code",
      "metadata": {
        "colab": {
          "base_uri": "https://localhost:8080/"
        },
        "id": "r72_SsWZEnXE",
        "outputId": "fb3b7959-96b3-4419-c8ec-b1ba6e9c627c"
      },
      "source": [
        "#using this as best for knn classification models \n",
        "#weighted knn\n",
        "\n",
        "def weighted_knn_auto(xtr, ytr, xte, yte, n):\n",
        "  start = time.time()\n",
        "  model = KNeighborsClassifier(n_neighbors=n, weights = 'distance').fit(xtr, ytr)\n",
        "  pred = model.predict(xte)\n",
        "  accuracy = accuracy_score(yte, pred)\n",
        "  print('Weighted Knn Accuracy = {:7.4f}'.format(accuracy))\n",
        "\n",
        "  elapsed_time = time.time() - start\n",
        "  print('Elapsed time = {:.4f} secs'.format(elapsed_time))\n",
        "  \n",
        "n =17\n",
        "print(\"weighted knn with n = \", n)\n",
        "weighted_knn_auto(x70_train, y70_train, x30_test, y30_test, n)\n",
        "weighted_knn_auto(x80_train, y80_train, x20_test, y20_test, n)\n",
        "weighted_knn_auto(x90_train, y90_train, x10_test, y10_test, n)\n",
        "print()\n",
        "print(\"balltree weighted with n = \", n)\n",
        "Wball_tree_knnC(x70_train, y70_train, x30_test, y30_test, n)\n",
        "Wball_tree_knnC(x80_train, y80_train, x20_test, y20_test, n)\n",
        "Wball_tree_knnC(x90_train, y90_train, x10_test, y10_test, n)\n",
        "print()\n",
        "print(\"kdtree weighted with n = \", n)\n",
        "Wkd_tree_knnC(x70_train, y70_train, x30_test, y30_test, n)\n",
        "Wkd_tree_knnC(x80_train, y80_train, x20_test, y20_test, n)\n",
        "Wkd_tree_knnC(x90_train, y90_train, x10_test, y10_test, n)\n",
        "print()"
      ],
      "execution_count": null,
      "outputs": [
        {
          "output_type": "stream",
          "name": "stdout",
          "text": [
            "weighted knn with n =  17\n",
            "Weighted Knn Accuracy =  0.5778\n",
            "Elapsed time = 0.0094 secs\n",
            "Weighted Knn Accuracy =  0.5806\n",
            "Elapsed time = 0.0080 secs\n",
            "Weighted Knn Accuracy =  0.5446\n",
            "Elapsed time = 0.0068 secs\n",
            "\n",
            "balltree weighted with n =  17\n",
            "weighted KNN balltree Accuracy = 0.5778\n",
            "Elapsed time = 0.0123 secs\n",
            "weighted KNN balltree Accuracy = 0.5806\n",
            "Elapsed time = 0.0103 secs\n",
            "weighted KNN balltree Accuracy = 0.5446\n",
            "Elapsed time = 0.0076 secs\n",
            "\n",
            "kdtree weighted with n =  17\n",
            "Weighted KNN tdtree Accuracy = 0.5778\n",
            "Elapsed time = 0.0105 secs\n",
            "Weighted KNN tdtree Accuracy = 0.5806\n",
            "Elapsed time = 0.0055 secs\n",
            "Weighted KNN tdtree Accuracy = 0.5446\n",
            "Elapsed time = 0.0074 secs\n",
            "\n"
          ]
        }
      ]
    },
    {
      "cell_type": "markdown",
      "metadata": {
        "id": "Gn3Z0JTuoUsK"
      },
      "source": [
        "# Best KNN Classification model and parameters"
      ]
    },
    {
      "cell_type": "code",
      "metadata": {
        "colab": {
          "base_uri": "https://localhost:8080/"
        },
        "id": "0SeWGClxMfJK",
        "outputId": "c908f92a-3ec2-467c-a3bd-8697cf4e71b8"
      },
      "source": [
        "n = 17\n",
        "print(\"weighted knn with n = \", n)\n",
        "weighted_knn_auto(x80_train, y80_train, x20_test, y20_test, n)\n",
        "Wball_tree_knnC(x80_train, y80_train, x20_test, y20_test, n)\n",
        "Wkd_tree_knnC(x80_train, y80_train, x20_test, y20_test, n)"
      ],
      "execution_count": null,
      "outputs": [
        {
          "output_type": "stream",
          "name": "stdout",
          "text": [
            "weighted knn with n =  17\n",
            "Weighted Knn Accuracy =  0.5806\n",
            "Elapsed time = 0.0078 secs\n",
            "weighted KNN balltree Accuracy = 0.5806\n",
            "Elapsed time = 0.0105 secs\n",
            "Weighted KNN tdtree Accuracy = 0.5806\n",
            "Elapsed time = 0.0072 secs\n"
          ]
        }
      ]
    },
    {
      "cell_type": "markdown",
      "metadata": {
        "id": "1f4MFdPtZRoo"
      },
      "source": [
        "# **Knn results and analysis**\n",
        "\n",
        "Knn-nearest neighbors fast BUT accuracy of this model is inadquate to meet the needs and safety of The World Health Organization since accuracy maxes out on average to .58 using by 80 by 20 dataset, n = 17, using weighted knn, and using either Ball_tree or  kd_tree algorithm to also get the fastest speed vs unweighted knn and/or using brute algorithm. "
      ]
    },
    {
      "cell_type": "markdown",
      "metadata": {
        "id": "Fu36ww7y-L4c"
      },
      "source": [
        "# Naive Bayes Classification Model"
      ]
    },
    {
      "cell_type": "markdown",
      "metadata": {
        "id": "1MWsFk6vfcXe"
      },
      "source": [
        "##**Naive Bayes model**"
      ]
    },
    {
      "cell_type": "markdown",
      "metadata": {
        "id": "ZAiyzIRmnAgD"
      },
      "source": [
        "### Altering binarize and alpha(smoothing)"
      ]
    },
    {
      "cell_type": "code",
      "metadata": {
        "id": "rOcV2ULpriQ0"
      },
      "source": [
        "#alpha for Multinomial, Complement, and Bernoulli\n",
        "#changed alpha to .5, vs default 1 \n",
        "# however, when a =0 (no smoothing),  program changes a = 1.0*e(-10)\n",
        "a = .5"
      ],
      "execution_count": null,
      "outputs": []
    },
    {
      "cell_type": "markdown",
      "metadata": {
        "id": "wbJAKahJJQfs"
      },
      "source": [
        "### Gaussian Naive Bayes"
      ]
    },
    {
      "cell_type": "code",
      "metadata": {
        "colab": {
          "base_uri": "https://localhost:8080/"
        },
        "id": "_nV_80uNfdCa",
        "outputId": "b109e936-bd55-4618-9426-5e1e5be33b4d"
      },
      "source": [
        "#Gaussian Naive Bayes default\n",
        "\n",
        "def default_Gaussian(xtr, ytr, xte, yte):\n",
        "  start = time.time()\n",
        "  model = GaussianNB().fit(xtr, ytr)\n",
        "  pred = model.predict(xte)\n",
        "  accuracy = accuracy_score(yte, pred)\n",
        "  print('Gaussian default Accuracy = {:7.4f}'.format(accuracy))\n",
        "\n",
        "  elapsed_time = time.time() - start\n",
        "  print('Elapsed time = {:.4f} secs'.format(elapsed_time))\n",
        "  \n",
        "\n",
        "\n",
        "default_Gaussian(x70_train, y70_train, x30_test, y30_test)\n",
        "default_Gaussian(x80_train, y80_train, x20_test, y20_test)\n",
        "default_Gaussian(x90_train, y90_train, x10_test, y10_test)"
      ],
      "execution_count": null,
      "outputs": [
        {
          "output_type": "stream",
          "name": "stdout",
          "text": [
            "Gaussian default Accuracy =  0.6209\n",
            "Elapsed time = 0.0031 secs\n",
            "Gaussian default Accuracy =  0.6352\n",
            "Elapsed time = 0.0019 secs\n",
            "Gaussian default Accuracy =  0.6238\n",
            "Elapsed time = 0.0017 secs\n"
          ]
        }
      ]
    },
    {
      "cell_type": "markdown",
      "metadata": {
        "id": "9jt-Hdo_JVv5"
      },
      "source": [
        "### Multinomial Naive Bayes"
      ]
    },
    {
      "cell_type": "code",
      "metadata": {
        "colab": {
          "base_uri": "https://localhost:8080/"
        },
        "id": "EuH0RrP9BYT7",
        "outputId": "4f75b9e2-d3ea-4455-e690-6b9c0eed58eb"
      },
      "source": [
        "#Multinomial Naive Bayes default\n",
        "\n",
        "def default_multin(xtr, ytr, xte, yte):\n",
        "  start = time.time()\n",
        "  model = MultinomialNB().fit(xtr, ytr)\n",
        "  pred = model.predict(xte)\n",
        "  accuracy = accuracy_score(yte, pred)\n",
        "  print('Multinomial Default Accuracy = {:7.4f}'.format(accuracy))\n",
        "\n",
        "  elapsed_time = time.time() - start\n",
        "  print('Elapsed time = {:.4f} secs'.format(elapsed_time))\n",
        "  \n",
        "default_multin(x70_train, y70_train, x30_test, y30_test)\n",
        "default_multin(x80_train, y80_train, x20_test, y20_test)\n",
        "default_multin(x90_train, y90_train, x10_test, y10_test)\n"
      ],
      "execution_count": null,
      "outputs": [
        {
          "output_type": "stream",
          "name": "stdout",
          "text": [
            "Multinomial Default Accuracy =  0.5348\n",
            "Elapsed time = 0.0049 secs\n",
            "Multinomial Default Accuracy =  0.5112\n",
            "Elapsed time = 0.0021 secs\n",
            "Multinomial Default Accuracy =  0.5149\n",
            "Elapsed time = 0.0018 secs\n"
          ]
        }
      ]
    },
    {
      "cell_type": "code",
      "metadata": {
        "colab": {
          "base_uri": "https://localhost:8080/"
        },
        "id": "lDRlEHy8SmGZ",
        "outputId": "f7fc8667-cc0a-45b4-9322-ba5300df63ed"
      },
      "source": [
        "#Multinomial Naive Bayes mods/changes\n",
        "\n",
        "def alpha_multin(xtr, ytr, xte, yte):\n",
        "  start = time.time()\n",
        "  model = MultinomialNB(alpha= a).fit(xtr, ytr)\n",
        "  pred = model.predict(xte)\n",
        "  accuracy = accuracy_score(yte, pred)\n",
        "  print('Alpha = ', a)\n",
        "  print('Multinomial Accuracy = {:7.4f}'.format(accuracy))\n",
        "\n",
        "  elapsed_time = time.time() - start\n",
        "  print('Elapsed time = {:.4f} secs'.format(elapsed_time))\n",
        "  \n",
        "alpha_multin(x70_train, y70_train, x30_test, y30_test)\n",
        "alpha_multin(x80_train, y80_train, x20_test, y20_test)\n",
        "alpha_multin(x90_train, y90_train, x10_test, y10_test)"
      ],
      "execution_count": null,
      "outputs": [
        {
          "output_type": "stream",
          "name": "stdout",
          "text": [
            "Alpha =  0.5\n",
            "Multinomial Accuracy =  0.5348\n",
            "Elapsed time = 0.0045 secs\n",
            "Alpha =  0.5\n",
            "Multinomial Accuracy =  0.5112\n",
            "Elapsed time = 0.0025 secs\n",
            "Alpha =  0.5\n",
            "Multinomial Accuracy =  0.5149\n",
            "Elapsed time = 0.0024 secs\n"
          ]
        }
      ]
    },
    {
      "cell_type": "markdown",
      "metadata": {
        "id": "M1nqQHPSJYlw"
      },
      "source": [
        "### Complement Naive Bayes"
      ]
    },
    {
      "cell_type": "code",
      "metadata": {
        "colab": {
          "base_uri": "https://localhost:8080/"
        },
        "id": "7ql3RTSJBYew",
        "outputId": "cabcbf62-25a4-4663-bc17-a76818658443"
      },
      "source": [
        "#Complement Naive Bayes default \n",
        "\n",
        "def default_compl(xtr, ytr, xte, yte):\n",
        "  start = time.time()\n",
        "  model = ComplementNB().fit(xtr, ytr)\n",
        "  pred = model.predict(xte)\n",
        "  accuracy = accuracy_score(yte, pred)\n",
        "  print('Complement Default Accuracy = {:7.4f}'.format(accuracy))\n",
        "\n",
        "  elapsed_time = time.time() - start\n",
        "  print('Elapsed time = {:.4f} secs'.format(elapsed_time))\n",
        "  \n",
        "default_compl(x70_train, y70_train, x30_test, y30_test)\n",
        "default_compl(x80_train, y80_train, x20_test, y20_test)\n",
        "default_compl(x90_train, y90_train, x10_test, y10_test)\n"
      ],
      "execution_count": null,
      "outputs": [
        {
          "output_type": "stream",
          "name": "stdout",
          "text": [
            "Complement Default Accuracy =  0.5298\n",
            "Elapsed time = 0.0026 secs\n",
            "Complement Default Accuracy =  0.5062\n",
            "Elapsed time = 0.0019 secs\n",
            "Complement Default Accuracy =  0.5099\n",
            "Elapsed time = 0.0018 secs\n"
          ]
        }
      ]
    },
    {
      "cell_type": "code",
      "metadata": {
        "colab": {
          "base_uri": "https://localhost:8080/"
        },
        "id": "XoyJvJpXSsUp",
        "outputId": "60684688-6eab-4a03-d1f6-6ccbb59dcdc4"
      },
      "source": [
        "#Complement Naive Bayes mods/changes\n",
        "\n",
        "\n",
        "def alpha_compl(xtr, ytr, xte, yte):\n",
        "  start = time.time()\n",
        "  model = ComplementNB(alpha= a).fit(xtr, ytr)\n",
        "  pred = model.predict(xte)\n",
        "  accuracy = accuracy_score(yte, pred)\n",
        "  print(\"Alpha = \", a)\n",
        "  print('Complement Default Accuracy = {:7.4f}'.format(accuracy))\n",
        "\n",
        "  elapsed_time = time.time() - start\n",
        "  print('Elapsed time = {:.4f} secs'.format(elapsed_time))\n",
        "  \n",
        "alpha_compl(x70_train, y70_train, x30_test, y30_test)\n",
        "alpha_compl(x80_train, y80_train, x20_test, y20_test)\n",
        "alpha_compl(x90_train, y90_train, x10_test, y10_test)"
      ],
      "execution_count": null,
      "outputs": [
        {
          "output_type": "stream",
          "name": "stdout",
          "text": [
            "Alpha =  0.5\n",
            "Complement Default Accuracy =  0.5298\n",
            "Elapsed time = 0.0032 secs\n",
            "Alpha =  0.5\n",
            "Complement Default Accuracy =  0.5062\n",
            "Elapsed time = 0.0024 secs\n",
            "Alpha =  0.5\n",
            "Complement Default Accuracy =  0.5099\n",
            "Elapsed time = 0.0024 secs\n"
          ]
        }
      ]
    },
    {
      "cell_type": "markdown",
      "metadata": {
        "id": "0jYhwK9aJaay"
      },
      "source": [
        "### Bernoulli Naive Bayes"
      ]
    },
    {
      "cell_type": "code",
      "metadata": {
        "colab": {
          "base_uri": "https://localhost:8080/"
        },
        "id": "ob2Z-ZucBYlY",
        "outputId": "abf5c895-db03-444c-aa8a-300c6d37c3ed"
      },
      "source": [
        "#Bernoulli Naive Bayes default\n",
        "\n",
        "def default_bern(xtr, ytr, xte, yte):\n",
        "  start = time.time()\n",
        "  model = BernoulliNB().fit(xtr, ytr)\n",
        "  pred = model.predict(xte)\n",
        "  accuracy = accuracy_score(yte, pred)\n",
        "  print('Bernouli Default Accuracy = {:7.4f}'.format(accuracy))\n",
        "\n",
        "  elapsed_time = time.time() - start\n",
        "  print('Elapsed time = {:.4f} secs'.format(elapsed_time))\n",
        "  \n",
        "default_bern(x70_train, y70_train, x30_test, y30_test)\n",
        "default_bern(x80_train, y80_train, x20_test, y20_test)\n",
        "default_bern(x90_train, y90_train, x10_test, y10_test)\n"
      ],
      "execution_count": null,
      "outputs": [
        {
          "output_type": "stream",
          "name": "stdout",
          "text": [
            "Bernouli Default Accuracy =  0.5960\n",
            "Elapsed time = 0.0039 secs\n",
            "Bernouli Default Accuracy =  0.5931\n",
            "Elapsed time = 0.0045 secs\n",
            "Bernouli Default Accuracy =  0.5743\n",
            "Elapsed time = 0.0033 secs\n"
          ]
        }
      ]
    },
    {
      "cell_type": "code",
      "metadata": {
        "colab": {
          "base_uri": "https://localhost:8080/"
        },
        "id": "Kc_zdcxQBYwK",
        "outputId": "f27f25bc-efb8-47aa-b8b7-d021c8d4e4eb"
      },
      "source": [
        "#Bernoulli Naive Bayes mods/changes bin\n",
        "\n",
        "def mod_bern(xtr, ytr, xte, yte, a = 1, b= .5):\n",
        "  start = time.time()\n",
        "  model = BernoulliNB(alpha = a, binarize= b).fit(xtr, ytr)\n",
        "  pred = model.predict(xte)\n",
        "  accuracy = accuracy_score(yte, pred)\n",
        "  print(\"alpha = \", a)\n",
        "  print(\"binarize = \", b)\n",
        "  print('Bernouli mod Accuracy = {:7.4f}'.format(accuracy))\n",
        "\n",
        "  elapsed_time = time.time() - start\n",
        "  print('Elapsed time = {:.4f} secs'.format(elapsed_time))\n",
        "\n",
        "# tried np.mean(x_train) and .5 for binarize for Bernoulli\n",
        "#bin = .5\n",
        "\n",
        "#bin7m = np.mean(x70_train)\n",
        "#bin8m = np.mean(x80_train)\n",
        "#bin9m = np.mean(x90_train)\n",
        "mod_bern(x70_train, y70_train, x30_test, y30_test)\n",
        "mod_bern(x80_train, y80_train, x20_test, y20_test)\n",
        "mod_bern(x90_train, y90_train, x10_test, y10_test)\n"
      ],
      "execution_count": null,
      "outputs": [
        {
          "output_type": "stream",
          "name": "stdout",
          "text": [
            "alpha =  1\n",
            "binarize =  0.5\n",
            "Bernouli mod Accuracy =  0.5960\n",
            "Elapsed time = 0.0045 secs\n",
            "alpha =  1\n",
            "binarize =  0.5\n",
            "Bernouli mod Accuracy =  0.5931\n",
            "Elapsed time = 0.0071 secs\n",
            "alpha =  1\n",
            "binarize =  0.5\n",
            "Bernouli mod Accuracy =  0.5743\n",
            "Elapsed time = 0.0031 secs\n"
          ]
        }
      ]
    },
    {
      "cell_type": "markdown",
      "metadata": {
        "id": "MXPpLzrhoqqc"
      },
      "source": [
        "# Best Naive Bayes model and parameters"
      ]
    },
    {
      "cell_type": "code",
      "metadata": {
        "id": "cilXWL_NovrX"
      },
      "source": [
        "def bestNB_Gaussian(xtr, ytr, xte, yte):\n",
        "  start = time.time()\n",
        "  model = GaussianNB().fit(xtr, ytr)\n",
        "  pred = model.predict(xte)\n",
        "  accuracy = accuracy_score(yte, pred)\n",
        "  print('Gaussian default Accuracy = {:7.4f}'.format(accuracy))\n",
        "\n",
        "  elapsed_time = time.time() - start\n",
        "  print('Elapsed time = {:.4f} secs'.format(elapsed_time))"
      ],
      "execution_count": null,
      "outputs": []
    },
    {
      "cell_type": "markdown",
      "metadata": {
        "id": "SXmOaI0o_Rkv"
      },
      "source": [
        "# Accuracy and speed results of Naive Bayes \n",
        "**BEST**\n",
        "\n",
        "**Gaussian Naive Bayes** with default parameters was the best model when paired with a dataset split into 80 % train  by 20% test with an accuracy of **.63** and speed .0035 sec. \n",
        "\n",
        "**Burn** was second place when paired with 70%train by 30%test for best accuracy which was **.59**, while Best parameters to help increase speed(not accuracy) was setting  alpha = .5 and binarize = mean(x_train) to gain an average speed of .0046 sec.\n",
        "\n",
        "**Multinomial Naive Bayes** was third place when paired with 70%train by 30%test for best accuracy of .53 . Best parameters for it was a = .5 to gain an average speed of .0042\n",
        "\n",
        "**WORST**\n",
        "\n",
        "**Complement Naive Bayes** was last place when paired with 70%train by 30%test for best accuracy of .52 . Best parameters for it was not significant changes found when change alpha for this.\n"
      ]
    },
    {
      "cell_type": "markdown",
      "metadata": {
        "id": "KyfsJ6rbftr_"
      },
      "source": [
        "#**Decision Tree model**"
      ]
    },
    {
      "cell_type": "markdown",
      "metadata": {
        "id": "wknEp9IlNhOL"
      },
      "source": [
        "### Using Gini"
      ]
    },
    {
      "cell_type": "code",
      "metadata": {
        "colab": {
          "base_uri": "https://localhost:8080/"
        },
        "id": "G9SQiCoR_4pT",
        "outputId": "cf875c47-408c-4977-940d-3813f7c07fd7"
      },
      "source": [
        "# Decison Tree Default with Gini\n",
        "\n",
        "#This is where it hits me that I could have saved time and code space\n",
        "#by defining functions \n",
        "\n",
        "def default_G_DTC(xtr, ytr, xte, yte):\n",
        "  start = time.time()\n",
        "  model = DecisionTreeClassifier().fit(xtr, ytr)\n",
        "  pred = model.predict(xte)\n",
        "  accuracy = accuracy_score(yte, pred)\n",
        "  print('Accuracy = {:7.4f}'.format(accuracy))\n",
        "\n",
        "  elapsed_time = time.time() - start\n",
        "  print('Elapsed time = {:.4f} secs'.format(elapsed_time))\n",
        "  \n",
        "  #cm = confusion_matrix(yte, pred)\n",
        "  #print(cm)\n",
        "\n",
        "\n",
        "default_G_DTC(x70_train, y70_train, x30_test, y30_test)\n",
        "default_G_DTC(x80_train, y80_train, x20_test, y20_test)\n",
        "default_G_DTC(x90_train, y90_train, x10_test, y10_test)"
      ],
      "execution_count": null,
      "outputs": [
        {
          "output_type": "stream",
          "name": "stdout",
          "text": [
            "Accuracy =  0.6043\n",
            "Elapsed time = 0.0191 secs\n",
            "Accuracy =  0.6055\n",
            "Elapsed time = 0.0209 secs\n",
            "Accuracy =  0.5594\n",
            "Elapsed time = 0.0238 secs\n"
          ]
        }
      ]
    },
    {
      "cell_type": "markdown",
      "metadata": {
        "id": "cRmdacKHN5if"
      },
      "source": [
        "look for best depth"
      ]
    },
    {
      "cell_type": "code",
      "metadata": {
        "colab": {
          "base_uri": "https://localhost:8080/"
        },
        "id": "V_0doeVEGr1S",
        "outputId": "bb5fac2e-c91c-4a81-f815-81612e55f742"
      },
      "source": [
        "# Decison Tree with Gini looking for best depth \n",
        "#\n",
        "\n",
        "def best_G_DTC_depth(xtr, ytr, xte, yte):\n",
        "  best_a = 0\n",
        "  best_d = 0\n",
        "  speed = 0\n",
        "\n",
        "  #find max_depth that gets best results best split\n",
        "  for d in range(1,17):\n",
        "    start = time.time()\n",
        "    model = DecisionTreeClassifier(max_depth = d).fit(xtr, ytr)\n",
        "    pred = model.predict(xte)\n",
        "    accuracy = accuracy_score(yte, pred)\n",
        "    #print('Max_depth = {};, accuracy = {:7.4f}'.format(d ,accuracy))\n",
        "\n",
        "    elapsed_time = time.time() - start\n",
        "    #print('Elapsed time = {:.4f} secs'.format(elapsed_time))\n",
        "\n",
        "    if(best_a < accuracy):\n",
        "      best_a = accuracy\n",
        "      best_d = d\n",
        "      speed = elapsed_time\n",
        "  print('Max_depth = {};, B_accuracy = {:7.4f}'.format(best_d , best_a))\n",
        "  print('Elapsed time = {:.4f} secs'.format(elapsed_time))\n",
        "\n",
        "def rand_G_DTC_depth(xtr, ytr, xte, yte):\n",
        "  best_a = 0\n",
        "  best_d = 0\n",
        "  speed = 0\n",
        "\n",
        "  #find max_depth that gets best results rand split\n",
        "  for d in range(1,16):\n",
        "    start = time.time()\n",
        "    model = DecisionTreeClassifier(splitter = 'random', max_depth = d).fit(xtr, ytr)\n",
        "    pred = model.predict(xte)\n",
        "    accuracy = accuracy_score(yte, pred)\n",
        "    #print('Max_depth = {};, accuracy = {:7.4f}'.format(d ,accuracy))\n",
        "\n",
        "    elapsed_time = time.time() - start\n",
        "    #print('Elapsed time = {:.4f} secs'.format(elapsed_time))\n",
        "\n",
        "    if(best_a < accuracy):\n",
        "      best_a = accuracy\n",
        "      best_d = d\n",
        "      speed = elapsed_time\n",
        "  print('Max_depth = {};, R_accuracy = {:7.4f}'.format(best_d , best_a))\n",
        "  print('Elapsed time = {:.4f} secs'.format(elapsed_time))\n",
        "\n",
        "print('Best splitter, find max depth')\n",
        "best_G_DTC_depth(x70_train, y70_train, x30_test, y30_test)\n",
        "best_G_DTC_depth(x80_train, y80_train, x20_test, y20_test)\n",
        "best_G_DTC_depth(x90_train, y90_train, x10_test, y10_test)\n",
        "\n",
        "print()\n",
        "print('Random splitter, find max depth')\n",
        "rand_G_DTC_depth(x70_train, y70_train, x30_test, y30_test)\n",
        "rand_G_DTC_depth(x80_train, y80_train, x20_test, y20_test)\n",
        "rand_G_DTC_depth(x90_train, y90_train, x10_test, y10_test)"
      ],
      "execution_count": null,
      "outputs": [
        {
          "output_type": "stream",
          "name": "stdout",
          "text": [
            "Best splitter, find max depth\n",
            "Max_depth = 7;, B_accuracy =  0.6507\n",
            "Elapsed time = 0.0180 secs\n",
            "Max_depth = 5;, B_accuracy =  0.6452\n",
            "Elapsed time = 0.0180 secs\n",
            "Max_depth = 6;, B_accuracy =  0.6485\n",
            "Elapsed time = 0.0209 secs\n",
            "\n",
            "Random splitter, find max depth\n",
            "Max_depth = 5;, R_accuracy =  0.6440\n",
            "Elapsed time = 0.0032 secs\n",
            "Max_depth = 11;, R_accuracy =  0.6551\n",
            "Elapsed time = 0.0031 secs\n",
            "Max_depth = 6;, R_accuracy =  0.6485\n",
            "Elapsed time = 0.0034 secs\n"
          ]
        }
      ]
    },
    {
      "cell_type": "markdown",
      "metadata": {
        "id": "0HsXgsgoN_MF"
      },
      "source": [
        "Use depth, random split, and random_state"
      ]
    },
    {
      "cell_type": "code",
      "metadata": {
        "colab": {
          "base_uri": "https://localhost:8080/"
        },
        "id": "5wTPVc_MIgZr",
        "outputId": "0835c990-804e-49df-92e9-c2a4c38ee633"
      },
      "source": [
        "# Decison Tree with Gini looking for best depth \n",
        "# with random split and random state\n",
        "#random state, tried 0 and 42 (popular and most common)\n",
        "\n",
        " #find max_depth that gets best results with random split and random st\n",
        "def final_G_DTCm1(xtr, ytr, xte, yte, ran_state = 0):\n",
        "  best_a = 0\n",
        "  best_d = 0\n",
        "  speed = 0\n",
        "\n",
        "  for d in range(1,20):\n",
        "    start = time.time()\n",
        "    model = DecisionTreeClassifier(max_depth = d, random_state = ran_state).fit(xtr, ytr)\n",
        "    pred = model.predict(xte)\n",
        "    accuracy = accuracy_score(yte, pred)\n",
        "    #print('Max_depth = {};, accuracy = {:7.4f}'.format(d ,accuracy))\n",
        "\n",
        "    elapsed_time = time.time() - start\n",
        "    #print('Elapsed time = {:.4f} secs'.format(elapsed_time))\n",
        "\n",
        "    if(best_a < accuracy):\n",
        "      best_a = accuracy\n",
        "      best_d = d\n",
        "      speed = elapsed_time\n",
        "  print('Max_depth = {};, accuracy = {:7.4f}'.format(best_d , best_a))\n",
        "  print('Elapsed time = {:.4f} secs'.format(elapsed_time))\n",
        "\n",
        "\n",
        "#splitter\n",
        "def final_G_DTCm2(xtr, ytr, xte, yte, ran_state = 0):\n",
        "  best_a = 0\n",
        "  best_d = 0\n",
        "  speed = 0\n",
        "\n",
        "  for d in range(1,20):\n",
        "    start = time.time()\n",
        "    model = DecisionTreeClassifier(splitter = 'random', max_depth = d, random_state = ran_state).fit(xtr, ytr)\n",
        "    pred = model.predict(xte)\n",
        "    accuracy = accuracy_score(yte, pred)\n",
        "    #print('Max_depth = {};, accuracy = {:7.4f}'.format(d ,accuracy))\n",
        "\n",
        "    elapsed_time = time.time() - start\n",
        "    #print('Elapsed time = {:.4f} secs'.format(elapsed_time))\n",
        "\n",
        "    if(best_a < accuracy):\n",
        "      best_a = accuracy\n",
        "      best_d = d\n",
        "      speed = elapsed_time\n",
        "  print('Max_depth = {};, accuracy = {:7.4f}'.format(best_d , best_a))\n",
        "  print('Elapsed time = {:.4f} secs'.format(elapsed_time))\n",
        "\n",
        "r_state = 42\n",
        "final_G_DTCm1(x70_train, y70_train, x30_test, y30_test, r_state)\n",
        "final_G_DTCm1(x80_train, y80_train, x20_test, y20_test, r_state)\n",
        "final_G_DTCm1(x90_train, y90_train, x10_test, y10_test, r_state)\n",
        "print()\n",
        "final_G_DTCm2(x70_train, y70_train, x30_test, y30_test, r_state)\n",
        "final_G_DTCm2(x80_train, y80_train, x20_test, y20_test, r_state)\n",
        "final_G_DTCm2(x90_train, y90_train, x10_test, y10_test, r_state)"
      ],
      "execution_count": null,
      "outputs": [
        {
          "output_type": "stream",
          "name": "stdout",
          "text": [
            "Max_depth = 7;, accuracy =  0.6507\n",
            "Elapsed time = 0.0165 secs\n",
            "Max_depth = 9;, accuracy =  0.6501\n",
            "Elapsed time = 0.0229 secs\n",
            "Max_depth = 6;, accuracy =  0.6436\n",
            "Elapsed time = 0.0236 secs\n",
            "\n",
            "Max_depth = 7;, accuracy =  0.6573\n",
            "Elapsed time = 0.0032 secs\n",
            "Max_depth = 4;, accuracy =  0.6551\n",
            "Elapsed time = 0.0042 secs\n",
            "Max_depth = 4;, accuracy =  0.6634\n",
            "Elapsed time = 0.0034 secs\n"
          ]
        }
      ]
    },
    {
      "cell_type": "code",
      "metadata": {
        "colab": {
          "base_uri": "https://localhost:8080/"
        },
        "id": "DC0kGuPF3o0V",
        "outputId": "79f6244c-dd20-4038-d549-c3707f001296"
      },
      "source": [
        "# Decison Tree with Gini looking for best depth \n",
        "#add max_features\n",
        "# with random split and random state\n",
        "#random state, tried 0 and 42 (popular and most common)\n",
        "\n",
        " #find max_depth that gets best results with random split and random st\n",
        "def final_G_DTCm3(xtr, ytr, xte, yte, mf):\n",
        "  best_a = 0\n",
        "  best_d = 0\n",
        "  speed = 0\n",
        "  \n",
        "  for d in range(1,18):\n",
        "    start = time.time()\n",
        "    model = DecisionTreeClassifier(max_depth = d, random_state = 42, max_features=mf).fit(xtr, ytr)\n",
        "    pred = model.predict(xte)\n",
        "    accuracy = accuracy_score(yte, pred)\n",
        "    #print('Max_depth = {};, accuracy = {:7.4f}'.format(d ,accuracy))\n",
        "\n",
        "    elapsed_time = time.time() - start\n",
        "    #print('Elapsed time = {:.4f} secs'.format(elapsed_time))\n",
        "\n",
        "    if(best_a < accuracy):\n",
        "      best_a = accuracy\n",
        "      best_d = d\n",
        "      speed = elapsed_time\n",
        "  print('Max_depth = {};, accuracy = {:7.4f}'.format(best_d , best_a))\n",
        "  print('Elapsed time = {:.4f} secs'.format(elapsed_time))\n",
        "\n",
        "\n",
        "#splitter\n",
        "def final_G_DTCm4(xtr, ytr, xte, yte, mf):\n",
        "  best_a = 0\n",
        "  best_d = 0\n",
        "  speed = 0\n",
        "\n",
        "  for d in range(1,18):\n",
        "    start = time.time()\n",
        "    model = DecisionTreeClassifier(splitter = 'random', max_depth = d, random_state = 42, max_features = mf).fit(xtr, ytr)\n",
        "    pred = model.predict(xte)\n",
        "    accuracy = accuracy_score(yte, pred)\n",
        "    #print('Max_depth = {};, accuracy = {:7.4f}'.format(d ,accuracy))\n",
        "\n",
        "    elapsed_time = time.time() - start\n",
        "    #print('Elapsed time = {:.4f} secs'.format(elapsed_time))\n",
        "\n",
        "    if(best_a < accuracy):\n",
        "      best_a = accuracy\n",
        "      best_d = d\n",
        "      speed = elapsed_time\n",
        "  print('Max_depth = {};, accuracy = {:7.4f}'.format(best_d , best_a))\n",
        "  print('Elapsed time = {:.4f} secs'.format(elapsed_time))\n",
        "\n",
        "for mff in range(1,10):\n",
        "  print(\"Max_f = \", mff)\n",
        "  print()\n",
        "  print(\"best splitter\")\n",
        "  final_G_DTCm3(x70_train, y70_train, x30_test, y30_test, mff)\n",
        "  final_G_DTCm3(x80_train, y80_train, x20_test, y20_test, mff)\n",
        "  final_G_DTCm3(x90_train, y90_train, x10_test, y10_test, mff)\n",
        "  print()\n",
        "\n",
        "\n",
        "for mff in range(1,10):\n",
        "  print(\"Max_f = \", mff)\n",
        "  print()\n",
        "  print(\"random splitter\")\n",
        "  final_G_DTCm4(x70_train, y70_train, x30_test, y30_test, mff)\n",
        "  final_G_DTCm4(x80_train, y80_train, x20_test, y20_test, mff)\n",
        "  final_G_DTCm4(x90_train, y90_train, x10_test, y10_test, mff)\n",
        "  print()\n",
        "  "
      ],
      "execution_count": null,
      "outputs": [
        {
          "output_type": "stream",
          "name": "stdout",
          "text": [
            "Max_f =  1\n",
            "\n",
            "best splitter\n",
            "Max_depth = 7;, accuracy =  0.6275\n",
            "Elapsed time = 0.0034 secs\n",
            "Max_depth = 8;, accuracy =  0.6551\n",
            "Elapsed time = 0.0036 secs\n",
            "Max_depth = 5;, accuracy =  0.6238\n",
            "Elapsed time = 0.0062 secs\n",
            "\n",
            "Max_f =  2\n",
            "\n",
            "best splitter\n",
            "Max_depth = 6;, accuracy =  0.6358\n",
            "Elapsed time = 0.0051 secs\n",
            "Max_depth = 9;, accuracy =  0.6501\n",
            "Elapsed time = 0.0067 secs\n",
            "Max_depth = 13;, accuracy =  0.6931\n",
            "Elapsed time = 0.0064 secs\n",
            "\n",
            "Max_f =  3\n",
            "\n",
            "best splitter\n",
            "Max_depth = 14;, accuracy =  0.6623\n",
            "Elapsed time = 0.0065 secs\n",
            "Max_depth = 10;, accuracy =  0.6824\n",
            "Elapsed time = 0.0084 secs\n",
            "Max_depth = 7;, accuracy =  0.6535\n",
            "Elapsed time = 0.0124 secs\n",
            "\n",
            "Max_f =  4\n",
            "\n",
            "best splitter\n",
            "Max_depth = 7;, accuracy =  0.6556\n",
            "Elapsed time = 0.0114 secs\n",
            "Max_depth = 9;, accuracy =  0.6526\n",
            "Elapsed time = 0.0098 secs\n",
            "Max_depth = 4;, accuracy =  0.6287\n",
            "Elapsed time = 0.0136 secs\n",
            "\n",
            "Max_f =  5\n",
            "\n",
            "best splitter\n",
            "Max_depth = 7;, accuracy =  0.6722\n",
            "Elapsed time = 0.0130 secs\n",
            "Max_depth = 5;, accuracy =  0.6427\n",
            "Elapsed time = 0.0119 secs\n",
            "Max_depth = 7;, accuracy =  0.6832\n",
            "Elapsed time = 0.0147 secs\n",
            "\n",
            "Max_f =  6\n",
            "\n",
            "best splitter\n",
            "Max_depth = 7;, accuracy =  0.6556\n",
            "Elapsed time = 0.0105 secs\n",
            "Max_depth = 7;, accuracy =  0.6476\n",
            "Elapsed time = 0.0124 secs\n",
            "Max_depth = 10;, accuracy =  0.6584\n",
            "Elapsed time = 0.0153 secs\n",
            "\n",
            "Max_f =  7\n",
            "\n",
            "best splitter\n",
            "Max_depth = 7;, accuracy =  0.6507\n",
            "Elapsed time = 0.0142 secs\n",
            "Max_depth = 7;, accuracy =  0.6700\n",
            "Elapsed time = 0.0153 secs\n",
            "Max_depth = 17;, accuracy =  0.6485\n",
            "Elapsed time = 0.0196 secs\n",
            "\n",
            "Max_f =  8\n",
            "\n",
            "best splitter\n",
            "Max_depth = 7;, accuracy =  0.6523\n",
            "Elapsed time = 0.0140 secs\n",
            "Max_depth = 9;, accuracy =  0.6526\n",
            "Elapsed time = 0.0168 secs\n",
            "Max_depth = 8;, accuracy =  0.6683\n",
            "Elapsed time = 0.0192 secs\n",
            "\n",
            "Max_f =  9\n",
            "\n",
            "best splitter\n",
            "Max_depth = 7;, accuracy =  0.6507\n",
            "Elapsed time = 0.0164 secs\n",
            "Max_depth = 9;, accuracy =  0.6501\n",
            "Elapsed time = 0.0189 secs\n",
            "Max_depth = 6;, accuracy =  0.6436\n",
            "Elapsed time = 0.0218 secs\n",
            "\n",
            "Max_f =  1\n",
            "\n",
            "random splitter\n",
            "Max_depth = 12;, accuracy =  0.6126\n",
            "Elapsed time = 0.0015 secs\n",
            "Max_depth = 13;, accuracy =  0.6228\n",
            "Elapsed time = 0.0017 secs\n",
            "Max_depth = 17;, accuracy =  0.5941\n",
            "Elapsed time = 0.0015 secs\n",
            "\n",
            "Max_f =  2\n",
            "\n",
            "random splitter\n",
            "Max_depth = 7;, accuracy =  0.6275\n",
            "Elapsed time = 0.0017 secs\n",
            "Max_depth = 17;, accuracy =  0.6179\n",
            "Elapsed time = 0.0019 secs\n",
            "Max_depth = 6;, accuracy =  0.6238\n",
            "Elapsed time = 0.0018 secs\n",
            "\n",
            "Max_f =  3\n",
            "\n",
            "random splitter\n",
            "Max_depth = 14;, accuracy =  0.6291\n",
            "Elapsed time = 0.0019 secs\n",
            "Max_depth = 17;, accuracy =  0.6427\n",
            "Elapsed time = 0.0030 secs\n",
            "Max_depth = 10;, accuracy =  0.6287\n",
            "Elapsed time = 0.0022 secs\n",
            "\n",
            "Max_f =  4\n",
            "\n",
            "random splitter\n",
            "Max_depth = 6;, accuracy =  0.6440\n",
            "Elapsed time = 0.0023 secs\n",
            "Max_depth = 9;, accuracy =  0.6526\n",
            "Elapsed time = 0.0023 secs\n",
            "Max_depth = 16;, accuracy =  0.6584\n",
            "Elapsed time = 0.0023 secs\n",
            "\n",
            "Max_f =  5\n",
            "\n",
            "random splitter\n",
            "Max_depth = 6;, accuracy =  0.6407\n",
            "Elapsed time = 0.0024 secs\n",
            "Max_depth = 15;, accuracy =  0.6352\n",
            "Elapsed time = 0.0023 secs\n",
            "Max_depth = 15;, accuracy =  0.6287\n",
            "Elapsed time = 0.0040 secs\n",
            "\n",
            "Max_f =  6\n",
            "\n",
            "random splitter\n",
            "Max_depth = 12;, accuracy =  0.6374\n",
            "Elapsed time = 0.0023 secs\n",
            "Max_depth = 11;, accuracy =  0.6476\n",
            "Elapsed time = 0.0025 secs\n",
            "Max_depth = 2;, accuracy =  0.6238\n",
            "Elapsed time = 0.0030 secs\n",
            "\n",
            "Max_f =  7\n",
            "\n",
            "random splitter\n",
            "Max_depth = 13;, accuracy =  0.6589\n",
            "Elapsed time = 0.0028 secs\n",
            "Max_depth = 7;, accuracy =  0.6625\n",
            "Elapsed time = 0.0028 secs\n",
            "Max_depth = 8;, accuracy =  0.6535\n",
            "Elapsed time = 0.0030 secs\n",
            "\n",
            "Max_f =  8\n",
            "\n",
            "random splitter\n",
            "Max_depth = 9;, accuracy =  0.6457\n",
            "Elapsed time = 0.0027 secs\n",
            "Max_depth = 11;, accuracy =  0.6501\n",
            "Elapsed time = 0.0028 secs\n",
            "Max_depth = 7;, accuracy =  0.6386\n",
            "Elapsed time = 0.0030 secs\n",
            "\n",
            "Max_f =  9\n",
            "\n",
            "random splitter\n",
            "Max_depth = 7;, accuracy =  0.6573\n",
            "Elapsed time = 0.0029 secs\n",
            "Max_depth = 4;, accuracy =  0.6551\n",
            "Elapsed time = 0.0033 secs\n",
            "Max_depth = 4;, accuracy =  0.6634\n",
            "Elapsed time = 0.0034 secs\n",
            "\n"
          ]
        }
      ]
    },
    {
      "cell_type": "markdown",
      "metadata": {
        "id": "kGbZLpuYnYcK"
      },
      "source": [
        "Best results with Gini is with paramters best splitter, random state 42, and setting the max_feature to 3, and max_depth at 10"
      ]
    },
    {
      "cell_type": "markdown",
      "metadata": {
        "id": "BE2hmoYKNoi-"
      },
      "source": [
        "### Using Entropy"
      ]
    },
    {
      "cell_type": "code",
      "metadata": {
        "colab": {
          "base_uri": "https://localhost:8080/"
        },
        "id": "6DJuQ5tN8NEz",
        "outputId": "370397df-d6ad-4558-ac10-c7401778e966"
      },
      "source": [
        "# Decison Tree Default with entropy\n",
        "\n",
        "def default_E_DTC(xtr, ytr, xte, yte):\n",
        "  #m1_acc = 0.0\n",
        "  \n",
        "  #since results are randomized get a mean/average of 30 default\n",
        "  for i in range (1):  \n",
        "    start = time.time()\n",
        "    \n",
        "    model = DecisionTreeClassifier(criterion='entropy').fit(xtr, ytr) \n",
        "    pred = model.predict(xte)\n",
        "   # m1_acc += accuracy_score(yte, pred)\n",
        "\n",
        "    accuracy = accuracy_score(yte, pred)\n",
        "    print('Accuracy = {:7.4f}'.format(accuracy))\n",
        " # print('Average accuracy', m1_acc/30)\n",
        "    elapsed_time = time.time() - start\n",
        "    print('Elapsed time = {:.4f} secs'.format(elapsed_time))  \n",
        "  \n",
        "\n",
        "default_E_DTC(x70_train, y70_train, x30_test, y30_test)\n",
        "default_E_DTC(x80_train, y80_train, x20_test, y20_test)\n",
        "default_E_DTC(x90_train, y90_train, x10_test, y10_test)\n"
      ],
      "execution_count": null,
      "outputs": [
        {
          "output_type": "stream",
          "name": "stdout",
          "text": [
            "Accuracy =  0.6076\n",
            "Elapsed time = 0.0321 secs\n",
            "Accuracy =  0.6526\n",
            "Elapsed time = 0.0471 secs\n",
            "Accuracy =  0.5693\n",
            "Elapsed time = 0.0484 secs\n"
          ]
        }
      ]
    },
    {
      "cell_type": "code",
      "metadata": {
        "colab": {
          "base_uri": "https://localhost:8080/"
        },
        "id": "sTGR9pgMGsgS",
        "outputId": "cbbbf9f1-0231-409c-9218-4e5edc48beda"
      },
      "source": [
        "# Decison Tree with entropy, look for best depth\n",
        "\n",
        "def E_DTC_depth(xtr, ytr, xte, yte):\n",
        "  best_a = 0\n",
        "  best_d = 0\n",
        "  speed = 0\n",
        "  \n",
        "  for d in range(1,25):\n",
        "    start = time.time()\n",
        "    model = DecisionTreeClassifier(criterion='entropy', max_depth = d).fit(xtr, ytr)\n",
        "    pred = model.predict(xte)\n",
        "    accuracy = accuracy_score(yte, pred)\n",
        "    #print('Max_depth = {};, accuracy = {:7.4f}'.format(d ,accuracy))\n",
        "\n",
        "    elapsed_time = time.time() - start\n",
        "    #print('Elapsed time = {:.4f} secs'.format(elapsed_time))\n",
        "\n",
        "    if(best_a < accuracy):\n",
        "      best_a = accuracy\n",
        "      best_d = d\n",
        "      speed = elapsed_time\n",
        "  print('Max_depth = {};, accuracy = {:7.4f}'.format(best_d , best_a))\n",
        "  print('Elapsed time = {:.4f} secs'.format(elapsed_time))\n",
        "\n",
        "E_DTC_depth(x70_train, y70_train, x30_test, y30_test)\n",
        "E_DTC_depth(x80_train, y80_train, x20_test, y20_test)\n",
        "E_DTC_depth(x90_train, y90_train, x10_test, y10_test)"
      ],
      "execution_count": null,
      "outputs": [
        {
          "output_type": "stream",
          "name": "stdout",
          "text": [
            "Max_depth = 13;, accuracy =  0.6407\n",
            "Elapsed time = 0.0310 secs\n",
            "Max_depth = 14;, accuracy =  0.6675\n",
            "Elapsed time = 0.0418 secs\n",
            "Max_depth = 6;, accuracy =  0.6436\n",
            "Elapsed time = 0.0448 secs\n"
          ]
        }
      ]
    },
    {
      "cell_type": "markdown",
      "metadata": {
        "id": "JOXKKICJpgwC"
      },
      "source": [
        "The process to find best model for decision tree"
      ]
    },
    {
      "cell_type": "code",
      "metadata": {
        "colab": {
          "base_uri": "https://localhost:8080/"
        },
        "id": "TP-TvHZeNTFu",
        "outputId": "0af8b634-4326-47bd-b35e-9971b3a8d86e"
      },
      "source": [
        "# Decison Tree with entropy, look for best depth \n",
        "#try splitter and random state (0 or 42) parameters\n",
        "#dont use random split, lowers accuracy still\n",
        "\n",
        "def E_DTC_m1(xtr, ytr, xte, yte, mf):\n",
        "  best_a = 0\n",
        "  best_d = 0\n",
        "  speed = 0\n",
        "  \n",
        "  for d in range(4,20):\n",
        "    start = time.time()\n",
        "    model = DecisionTreeClassifier(criterion='entropy',  max_depth = d, random_state = 42, max_features=mf).fit(xtr, ytr)\n",
        "    pred = model.predict(xte)\n",
        "    accuracy = accuracy_score(yte, pred)\n",
        "    #print('Max_depth = {};, accuracy = {:7.4f}'.format(d ,accuracy))\n",
        "\n",
        "    elapsed_time = time.time() - start\n",
        "    #print('Elapsed time = {:.4f} secs'.format(elapsed_time))\n",
        "\n",
        "    if(best_a < accuracy):\n",
        "      best_a = accuracy\n",
        "      best_d = d\n",
        "      speed = elapsed_time\n",
        "  print('Max_depth = {};, accuracy = {:7.4f}'.format(best_d , best_a))\n",
        "  print('Elapsed time = {:.4f} secs'.format(elapsed_time))\n",
        "\n",
        "def E_DTC_m2(xtr, ytr, xte, yte, mf):\n",
        "  best_a = 0\n",
        "  best_d = 0\n",
        "  speed = 0\n",
        "\n",
        "  for d in range(4,20):\n",
        "    start = time.time()\n",
        "    model = DecisionTreeClassifier(criterion='entropy', splitter = 'random' ,  max_depth = d, random_state = 42, max_features=mf).fit(xtr, ytr)\n",
        "    pred = model.predict(xte)\n",
        "    accuracy = accuracy_score(yte, pred)\n",
        "    #print('Max_depth = {};, accuracy = {:7.4f}'.format(d ,accuracy))\n",
        "\n",
        "    elapsed_time = time.time() - start\n",
        "    #print('Elapsed time = {:.4f} secs'.format(elapsed_time))\n",
        "\n",
        "    if(best_a < accuracy):\n",
        "      best_a = accuracy\n",
        "      best_d = d\n",
        "      speed = elapsed_time\n",
        "  print('Max_depth = {};, accuracy = {:7.4f}'.format(best_d , best_a))\n",
        "  print('Elapsed time = {:.4f} secs'.format(elapsed_time))\n",
        "\n",
        "\n",
        "\n",
        "for maxf in range(1,10):\n",
        "  print(\"Max_f = \", maxf)\n",
        "  print()\n",
        "  print(\"best splitter\")\n",
        "  E_DTC_m1(x70_train, y70_train, x30_test, y30_test, maxf)\n",
        "  E_DTC_m1(x80_train, y80_train, x20_test, y20_test, maxf)\n",
        "  E_DTC_m1(x90_train, y90_train, x10_test, y10_test, maxf)\n",
        "  print()\n",
        "\n",
        "\n",
        "for maxf in range(1,10):\n",
        "  print(\"Max_f = \", maxf)\n",
        "  print()\n",
        "  print(\"rand split\")\n",
        "  E_DTC_m2(x70_train, y70_train, x30_test, y30_test, maxf)\n",
        "  E_DTC_m2(x80_train, y80_train, x20_test, y20_test, maxf)\n",
        "  E_DTC_m2(x90_train, y90_train, x10_test, y10_test, maxf)\n",
        "  print()"
      ],
      "execution_count": null,
      "outputs": [
        {
          "output_type": "stream",
          "name": "stdout",
          "text": [
            "Max_f =  1\n",
            "\n",
            "best splitter\n",
            "Max_depth = 7;, accuracy =  0.6358\n",
            "Elapsed time = 0.0057 secs\n",
            "Max_depth = 8;, accuracy =  0.6526\n",
            "Elapsed time = 0.0065 secs\n",
            "Max_depth = 14;, accuracy =  0.6337\n",
            "Elapsed time = 0.0081 secs\n",
            "\n",
            "Max_f =  2\n",
            "\n",
            "best splitter\n",
            "Max_depth = 8;, accuracy =  0.6474\n",
            "Elapsed time = 0.0100 secs\n",
            "Max_depth = 11;, accuracy =  0.6625\n",
            "Elapsed time = 0.0137 secs\n",
            "Max_depth = 11;, accuracy =  0.6782\n",
            "Elapsed time = 0.0131 secs\n",
            "\n",
            "Max_f =  3\n",
            "\n",
            "best splitter\n",
            "Max_depth = 13;, accuracy =  0.6523\n",
            "Elapsed time = 0.0143 secs\n",
            "Max_depth = 8;, accuracy =  0.6476\n",
            "Elapsed time = 0.0172 secs\n",
            "Max_depth = 6;, accuracy =  0.6584\n",
            "Elapsed time = 0.0202 secs\n",
            "\n",
            "Max_f =  4\n",
            "\n",
            "best splitter\n",
            "Max_depth = 7;, accuracy =  0.6507\n",
            "Elapsed time = 0.0141 secs\n",
            "Max_depth = 19;, accuracy =  0.6700\n",
            "Elapsed time = 0.0200 secs\n",
            "Max_depth = 11;, accuracy =  0.6683\n",
            "Elapsed time = 0.0229 secs\n",
            "\n",
            "Max_f =  5\n",
            "\n",
            "best splitter\n",
            "Max_depth = 10;, accuracy =  0.6573\n",
            "Elapsed time = 0.0179 secs\n",
            "Max_depth = 9;, accuracy =  0.6650\n",
            "Elapsed time = 0.0267 secs\n",
            "Max_depth = 6;, accuracy =  0.6436\n",
            "Elapsed time = 0.0283 secs\n",
            "\n",
            "Max_f =  6\n",
            "\n",
            "best splitter\n",
            "Max_depth = 8;, accuracy =  0.6490\n",
            "Elapsed time = 0.0213 secs\n",
            "Max_depth = 17;, accuracy =  0.6774\n",
            "Elapsed time = 0.0313 secs\n",
            "Max_depth = 15;, accuracy =  0.6535\n",
            "Elapsed time = 0.0319 secs\n",
            "\n",
            "Max_f =  7\n",
            "\n",
            "best splitter\n",
            "Max_depth = 7;, accuracy =  0.6540\n",
            "Elapsed time = 0.0296 secs\n",
            "Max_depth = 13;, accuracy =  0.6675\n",
            "Elapsed time = 0.0328 secs\n",
            "Max_depth = 7;, accuracy =  0.6238\n",
            "Elapsed time = 0.0367 secs\n",
            "\n",
            "Max_f =  8\n",
            "\n",
            "best splitter\n",
            "Max_depth = 6;, accuracy =  0.6507\n",
            "Elapsed time = 0.0336 secs\n",
            "Max_depth = 9;, accuracy =  0.6898\n",
            "Elapsed time = 0.0340 secs\n",
            "Max_depth = 7;, accuracy =  0.6337\n",
            "Elapsed time = 0.0388 secs\n",
            "\n",
            "Max_f =  9\n",
            "\n",
            "best splitter\n",
            "Max_depth = 5;, accuracy =  0.6325\n",
            "Elapsed time = 0.0316 secs\n",
            "Max_depth = 9;, accuracy =  0.6650\n",
            "Elapsed time = 0.0406 secs\n",
            "Max_depth = 6;, accuracy =  0.6436\n",
            "Elapsed time = 0.0439 secs\n",
            "\n",
            "Max_f =  1\n",
            "\n",
            "rand split\n",
            "Max_depth = 12;, accuracy =  0.6126\n",
            "Elapsed time = 0.0016 secs\n",
            "Max_depth = 13;, accuracy =  0.6228\n",
            "Elapsed time = 0.0020 secs\n",
            "Max_depth = 17;, accuracy =  0.5941\n",
            "Elapsed time = 0.0017 secs\n",
            "\n",
            "Max_f =  2\n",
            "\n",
            "rand split\n",
            "Max_depth = 15;, accuracy =  0.6341\n",
            "Elapsed time = 0.0021 secs\n",
            "Max_depth = 10;, accuracy =  0.6427\n",
            "Elapsed time = 0.0023 secs\n",
            "Max_depth = 6;, accuracy =  0.6238\n",
            "Elapsed time = 0.0022 secs\n",
            "\n",
            "Max_f =  3\n",
            "\n",
            "rand split\n",
            "Max_depth = 10;, accuracy =  0.6159\n",
            "Elapsed time = 0.0023 secs\n",
            "Max_depth = 17;, accuracy =  0.6576\n",
            "Elapsed time = 0.0027 secs\n",
            "Max_depth = 12;, accuracy =  0.6485\n",
            "Elapsed time = 0.0027 secs\n",
            "\n",
            "Max_f =  4\n",
            "\n",
            "rand split\n",
            "Max_depth = 11;, accuracy =  0.6457\n",
            "Elapsed time = 0.0024 secs\n",
            "Max_depth = 6;, accuracy =  0.6501\n",
            "Elapsed time = 0.0027 secs\n",
            "Max_depth = 12;, accuracy =  0.6535\n",
            "Elapsed time = 0.0025 secs\n",
            "\n",
            "Max_f =  5\n",
            "\n",
            "rand split\n",
            "Max_depth = 9;, accuracy =  0.6523\n",
            "Elapsed time = 0.0025 secs\n",
            "Max_depth = 4;, accuracy =  0.6328\n",
            "Elapsed time = 0.0029 secs\n",
            "Max_depth = 17;, accuracy =  0.6238\n",
            "Elapsed time = 0.0028 secs\n",
            "\n",
            "Max_f =  6\n",
            "\n",
            "rand split\n",
            "Max_depth = 15;, accuracy =  0.6606\n",
            "Elapsed time = 0.0027 secs\n",
            "Max_depth = 9;, accuracy =  0.6650\n",
            "Elapsed time = 0.0036 secs\n",
            "Max_depth = 17;, accuracy =  0.6485\n",
            "Elapsed time = 0.0032 secs\n",
            "\n",
            "Max_f =  7\n",
            "\n",
            "rand split\n",
            "Max_depth = 8;, accuracy =  0.6507\n",
            "Elapsed time = 0.0031 secs\n",
            "Max_depth = 7;, accuracy =  0.6625\n",
            "Elapsed time = 0.0033 secs\n",
            "Max_depth = 8;, accuracy =  0.6238\n",
            "Elapsed time = 0.0039 secs\n",
            "\n",
            "Max_f =  8\n",
            "\n",
            "rand split\n",
            "Max_depth = 11;, accuracy =  0.6474\n",
            "Elapsed time = 0.0036 secs\n",
            "Max_depth = 15;, accuracy =  0.6576\n",
            "Elapsed time = 0.0037 secs\n",
            "Max_depth = 10;, accuracy =  0.6485\n",
            "Elapsed time = 0.0035 secs\n",
            "\n",
            "Max_f =  9\n",
            "\n",
            "rand split\n",
            "Max_depth = 8;, accuracy =  0.6623\n",
            "Elapsed time = 0.0035 secs\n",
            "Max_depth = 9;, accuracy =  0.6675\n",
            "Elapsed time = 0.0036 secs\n",
            "Max_depth = 4;, accuracy =  0.6337\n",
            "Elapsed time = 0.0039 secs\n",
            "\n"
          ]
        }
      ]
    },
    {
      "cell_type": "code",
      "metadata": {
        "colab": {
          "base_uri": "https://localhost:8080/"
        },
        "id": "YzwnZBjtpk0W",
        "outputId": "742bde31-8460-40a7-c9b0-d57eb9a68da1"
      },
      "source": [
        "def best_dtc(xtr, ytr, xte, yte, d = 9):\n",
        "  start = time.time()\n",
        "  model = DecisionTreeClassifier(criterion='entropy',  max_depth = d, random_state = 42, max_features=8).fit(xtr, ytr)\n",
        "  pred = model.predict(xte)\n",
        "  accuracy = accuracy_score(yte, pred)\n",
        "  print(f'Accuracy = {accuracy:.4}')\n",
        "\n",
        "  elapsed_time = time.time() - start\n",
        "  print('Elapsed time = {:.4f} secs'.format(elapsed_time))\n",
        "\n",
        "best_dtc(x70_train, y70_train, x30_test, y30_test)\n",
        "best_dtc(x80_train, y80_train, x20_test, y20_test)\n",
        "best_dtc(x90_train, y90_train, x10_test, y10_test)"
      ],
      "execution_count": null,
      "outputs": [
        {
          "output_type": "stream",
          "name": "stdout",
          "text": [
            "Accuracy = 0.6507\n",
            "Elapsed time = 0.0284 secs\n",
            "Accuracy = 0.6898\n",
            "Elapsed time = 0.0265 secs\n",
            "Accuracy = 0.5644\n",
            "Elapsed time = 0.0292 secs\n"
          ]
        }
      ]
    },
    {
      "cell_type": "markdown",
      "metadata": {
        "id": "mT0XuEuy_0an"
      },
      "source": [
        "# Accuracy and speed results of Decision Tree\n",
        "\n",
        "**Best**\n",
        "\n",
        "The best CONSISTENT decision tree results were accuracy = .6898 with speed = .0254 secs at max_depth = 9, random_state = 42, max_features = 8  using entropy over gini, and with a training set of 80% training and 20%test.\n",
        "\n",
        "**Worst**\n",
        " adding/injecting randomness will hurt accuracy and give inconsistent depth/max depth in which the best accuracy can be found IF not paired with applied the random_state parameters.  Experienced all the decision tree tests had a noticable decrease in accuracy by overfitting when dataset was split in 90% train and 10% test  "
      ]
    },
    {
      "cell_type": "markdown",
      "metadata": {
        "id": "1XqfBBjKXpuf"
      },
      "source": [
        "# **Best models for classifers with their paramaters** "
      ]
    },
    {
      "cell_type": "code",
      "metadata": {
        "colab": {
          "base_uri": "https://localhost:8080/"
        },
        "id": "P7sAqTJGYQoF",
        "outputId": "e4cc291d-f4ad-4a20-dbd3-f4d5f596afe9"
      },
      "source": [
        "#knn\n",
        "print(\"Best knn model\")\n",
        "print(\"80% train by 20% test\")\n",
        "weighted_knn_auto(x80_train, y80_train, x20_test, y20_test, 15)\n",
        "\n",
        "#naive bayes\n",
        "print()\n",
        "print(\"Best Naive Baye model\")\n",
        "print(\"80% train by 20% test\")\n",
        "bestNB_Gaussian(x80_train, y80_train, x20_test, y20_test)\n",
        "\n",
        "\n",
        "#Decision Trees\n",
        "print()\n",
        "print(\"Best Decision tree model\")\n",
        "print(\"80% train by 20% test\")\n",
        "best_dtc(x80_train, y80_train, x20_test, y20_test)\n"
      ],
      "execution_count": null,
      "outputs": [
        {
          "output_type": "stream",
          "name": "stdout",
          "text": [
            "Best knn model\n",
            "80% train by 20% test\n",
            "Weighted Knn Accuracy =  0.5782\n",
            "Elapsed time = 0.0112 secs\n",
            "\n",
            "Best Naive Baye model\n",
            "80% train by 20% test\n",
            "Gaussian default Accuracy =  0.6352\n",
            "Elapsed time = 0.0031 secs\n",
            "\n",
            "Best Decision tree model\n",
            "80% train by 20% test\n",
            "Accuracy = 0.6898\n",
            "Elapsed time = 0.0270 secs\n"
          ]
        }
      ]
    },
    {
      "cell_type": "markdown",
      "metadata": {
        "id": "TPqyjJhJtbiI"
      },
      "source": [
        "Best of the best is decision tree with accuracy of .6898, depth 9, splitter = 'best',  max_feature = 8, random_state= 42, and  and trained by the 80% by 20% dataset\n",
        "\n",
        " Accuracy = 0.6898\n",
        "Elapsed time = 0.0257 secs"
      ]
    },
    {
      "cell_type": "markdown",
      "metadata": {
        "id": "IAIC8CDxJ0nA"
      },
      "source": [
        "# Test out Regressors based on mean squared error\n",
        "\n",
        "1. knn regressor default vs knn regressor mod_paramters\n",
        "\n",
        "2. Naive Bayes default vs Naive Bayes mod_paramters\n",
        "\n",
        "3. Decision Tree regressor default vs decision tree regressor mod_paramters "
      ]
    },
    {
      "cell_type": "markdown",
      "metadata": {
        "id": "lpxVYJYFf00I"
      },
      "source": [
        "#**Knn Regressor Model**"
      ]
    },
    {
      "cell_type": "code",
      "metadata": {
        "colab": {
          "base_uri": "https://localhost:8080/",
          "height": 252
        },
        "id": "RwQ-iBlCAOEi",
        "outputId": "5ca17454-cf4e-494d-d979-43f91a634edd"
      },
      "source": [
        "#Default knn Regressor vs default weight knn regressor\n",
        "## k-nn regressor version\n",
        "# n_jobs=-1 use all processors\n",
        "#n = 5 be fault\n",
        "\n",
        "def default_knnReg(xtr, ytr, xte, yte):\n",
        "  start = time.time()\n",
        "  model = KNeighborsRegressor(n_jobs=-1).fit(xtr, ytr)\n",
        "  pred = model.predict(xte)\n",
        "  print('Mean squared error = {:5.2f}'.format(mean_squared_error(pred, yte)))\n",
        "  elapsed_time = time.time() - start\n",
        "  print('Elapsed time = {:.4f} secs'.format(elapsed_time))\n",
        "\n",
        "def defaultW_knnReg(xtr, ytr, xte, yte):\n",
        "  start = time.time() \n",
        "  model = KNeighborsRegressor(weights = 'distance', n_jobs=-1).fit(xtr, ytr)\n",
        "  pred = model.predict(xte)\n",
        "  print('Mean squared error = {:5.2f}'.format(mean_squared_error(pred, yte)))\n",
        "  elapsed_time = time.time() - start\n",
        "  print('Elapsed time = {:.4f} secs'.format(elapsed_time))\n",
        "\n",
        "print('unweighted knn regressor default')\n",
        "defaultW_knnReg(x70_train, y70_train, x30_test, y30_test)\n",
        "defaultW_knnReg(x80_train, y80_train, x20_test, y20_test)\n",
        "defaultW_knnReg(x90_train, y90_train, x10_test, y10_test)\n",
        "print()\n",
        "\n",
        "print('weighted knn regressor default')\n",
        "defaultW_knnReg(x70_train, y70_train, x30_test, y30_test)\n",
        "defaultW_knnReg(x80_train, y80_train, x20_test, y20_test)\n",
        "defaultW_knnReg(x90_train, y90_train, x10_test, y10_test)"
      ],
      "execution_count": null,
      "outputs": [
        {
          "output_type": "stream",
          "name": "stdout",
          "text": [
            "unweighted knn regressor default\n"
          ]
        },
        {
          "output_type": "error",
          "ename": "NameError",
          "evalue": "ignored",
          "traceback": [
            "\u001b[0;31m---------------------------------------------------------------------------\u001b[0m",
            "\u001b[0;31mNameError\u001b[0m                                 Traceback (most recent call last)",
            "\u001b[0;32m<ipython-input-4-a0ccd84c9802>\u001b[0m in \u001b[0;36m<module>\u001b[0;34m()\u001b[0m\n\u001b[1;32m     21\u001b[0m \u001b[0;34m\u001b[0m\u001b[0m\n\u001b[1;32m     22\u001b[0m \u001b[0mprint\u001b[0m\u001b[0;34m(\u001b[0m\u001b[0;34m'unweighted knn regressor default'\u001b[0m\u001b[0;34m)\u001b[0m\u001b[0;34m\u001b[0m\u001b[0;34m\u001b[0m\u001b[0m\n\u001b[0;32m---> 23\u001b[0;31m \u001b[0mdefaultW_knnReg\u001b[0m\u001b[0;34m(\u001b[0m\u001b[0mx70_train\u001b[0m\u001b[0;34m,\u001b[0m \u001b[0my70_train\u001b[0m\u001b[0;34m,\u001b[0m \u001b[0mx30_test\u001b[0m\u001b[0;34m,\u001b[0m \u001b[0my30_test\u001b[0m\u001b[0;34m)\u001b[0m\u001b[0;34m\u001b[0m\u001b[0;34m\u001b[0m\u001b[0m\n\u001b[0m\u001b[1;32m     24\u001b[0m \u001b[0mdefaultW_knnReg\u001b[0m\u001b[0;34m(\u001b[0m\u001b[0mx80_train\u001b[0m\u001b[0;34m,\u001b[0m \u001b[0my80_train\u001b[0m\u001b[0;34m,\u001b[0m \u001b[0mx20_test\u001b[0m\u001b[0;34m,\u001b[0m \u001b[0my20_test\u001b[0m\u001b[0;34m)\u001b[0m\u001b[0;34m\u001b[0m\u001b[0;34m\u001b[0m\u001b[0m\n\u001b[1;32m     25\u001b[0m \u001b[0mdefaultW_knnReg\u001b[0m\u001b[0;34m(\u001b[0m\u001b[0mx90_train\u001b[0m\u001b[0;34m,\u001b[0m \u001b[0my90_train\u001b[0m\u001b[0;34m,\u001b[0m \u001b[0mx10_test\u001b[0m\u001b[0;34m,\u001b[0m \u001b[0my10_test\u001b[0m\u001b[0;34m)\u001b[0m\u001b[0;34m\u001b[0m\u001b[0;34m\u001b[0m\u001b[0m\n",
            "\u001b[0;31mNameError\u001b[0m: name 'x70_train' is not defined"
          ]
        }
      ]
    },
    {
      "cell_type": "code",
      "metadata": {
        "colab": {
          "base_uri": "https://localhost:8080/",
          "height": 270
        },
        "id": "tjYpywg91h4K",
        "outputId": "c9e40a9f-e5af-463e-88c6-e45f6337c754"
      },
      "source": [
        "#change n and algoriths\n",
        "\n",
        "def auto_knnReg(xtr, ytr, xte, yte, n):\n",
        "  start = time.time()\n",
        "  model = KNeighborsRegressor(n_neighbors= n, n_jobs=-1).fit(xtr, ytr)\n",
        "  pred = model.predict(xte)\n",
        "  print('Mean squared error = {:5.2f}'.format(mean_squared_error(pred, yte)))\n",
        "\n",
        "  elapsed_time = time.time() - start\n",
        "  print('Elapsed time = {:.4f} secs'.format(elapsed_time))\n",
        "\n",
        "\n",
        "def bt_knnReg(xtr, ytr, xte, yte, n):\n",
        "  start = time.time()  \n",
        "  model = KNeighborsRegressor(n_neighbors = n, algorithm = 'ball_tree' ,n_jobs=-1).fit(xtr, ytr)\n",
        "  pred = model.predict(xte)\n",
        "  print('Mean squared error = {:5.2f}'.format(mean_squared_error(pred, yte)))\n",
        "\n",
        "  elapsed_time = time.time() - start\n",
        "  print('Elapsed time = {:.4f} secs'.format(elapsed_time))\n",
        "\n",
        "\n",
        "def kd_knnReg(xtr, ytr, xte, yte, n):\n",
        "  start = time.time()  \n",
        "  model = KNeighborsRegressor(n_neighbors = n, algorithm = 'kd_tree' ,n_jobs=-1).fit(xtr, ytr)\n",
        "  pred = model.predict(xte)\n",
        "  print('Mean squared error = {:5.2f}'.format(mean_squared_error(pred, yte)))\n",
        "\n",
        "  elapsed_time = time.time() - start\n",
        "  print('Elapsed time = {:.4f} secs'.format(elapsed_time))\n",
        "\n",
        "\n",
        "def brute_knnReg(xtr, ytr, xte, yte, n):\n",
        "  start = time.time()  \n",
        "  model = KNeighborsRegressor(n_neighbors = n, algorithm = 'brute' ,n_jobs=-1).fit(xtr, ytr)\n",
        "  pred = model.predict(xte)\n",
        "  print('Mean squared error = {:5.2f}'.format(mean_squared_error(pred, yte)))\n",
        "  \n",
        "  elapsed_time = time.time() - start\n",
        "  print('Elapsed time = {:.4f} secs'.format(elapsed_time))\n",
        "\n",
        "#check n=15 from previous results with classifers to see if n =15 means \n",
        "#something for knn models\n",
        "\n",
        "# n= 15 for all dataset models to get .25 (lowest MSE) \n",
        "# n = 9, dataset of 90by 10 hits and maintains .25 first\n",
        "\n",
        "\n",
        "for n in range(7,12,2):\n",
        "  print('n = ', n)\n",
        "  print(\"auto algorithm\")\n",
        "  auto_knnReg(x70_train, y70_train, x30_test, y30_test, n)\n",
        "  auto_knnReg(x80_train, y80_train, x20_test, y20_test, n)\n",
        "  auto_knnReg(x90_train, y90_train, x10_test, y10_test, n)\n",
        "\n",
        "  print()\n",
        "  print(\"ball_tree algorithm\")\n",
        "  bt_knnReg(x70_train, y70_train, x30_test, y30_test, n)\n",
        "  bt_knnReg(x80_train, y80_train, x20_test, y20_test, n)\n",
        "  bt_knnReg(x90_train, y90_train, x10_test, y10_test, n)\n",
        "\n",
        "  print()\n",
        "  print(\"kd_tree algorithm\")\n",
        "  kd_knnReg(x70_train, y70_train, x30_test, y30_test, n)\n",
        "  kd_knnReg(x80_train, y80_train, x20_test, y20_test, n)\n",
        "  kd_knnReg(x90_train, y90_train, x10_test, y10_test, n)\n",
        "\n",
        "  print()\n",
        "#print(\"brute algorithm\")\n",
        "#brute_knnReg(x70_train, y70_train, x30_test, y30_test, n4)\n",
        "#brute_knnReg(x80_train, y80_train, x20_test, y20_test, n4)\n",
        "#brute_knnReg(x90_train, y90_train, x10_test, y10_test, n4)\n"
      ],
      "execution_count": null,
      "outputs": [
        {
          "output_type": "stream",
          "name": "stdout",
          "text": [
            "n =  7\n",
            "auto algorithm\n"
          ]
        },
        {
          "output_type": "error",
          "ename": "NameError",
          "evalue": "ignored",
          "traceback": [
            "\u001b[0;31m---------------------------------------------------------------------------\u001b[0m",
            "\u001b[0;31mNameError\u001b[0m                                 Traceback (most recent call last)",
            "\u001b[0;32m<ipython-input-5-d64f752877cb>\u001b[0m in \u001b[0;36m<module>\u001b[0;34m()\u001b[0m\n\u001b[1;32m     50\u001b[0m   \u001b[0mprint\u001b[0m\u001b[0;34m(\u001b[0m\u001b[0;34m'n = '\u001b[0m\u001b[0;34m,\u001b[0m \u001b[0mn\u001b[0m\u001b[0;34m)\u001b[0m\u001b[0;34m\u001b[0m\u001b[0;34m\u001b[0m\u001b[0m\n\u001b[1;32m     51\u001b[0m   \u001b[0mprint\u001b[0m\u001b[0;34m(\u001b[0m\u001b[0;34m\"auto algorithm\"\u001b[0m\u001b[0;34m)\u001b[0m\u001b[0;34m\u001b[0m\u001b[0;34m\u001b[0m\u001b[0m\n\u001b[0;32m---> 52\u001b[0;31m   \u001b[0mauto_knnReg\u001b[0m\u001b[0;34m(\u001b[0m\u001b[0mx70_train\u001b[0m\u001b[0;34m,\u001b[0m \u001b[0my70_train\u001b[0m\u001b[0;34m,\u001b[0m \u001b[0mx30_test\u001b[0m\u001b[0;34m,\u001b[0m \u001b[0my30_test\u001b[0m\u001b[0;34m,\u001b[0m \u001b[0mn\u001b[0m\u001b[0;34m)\u001b[0m\u001b[0;34m\u001b[0m\u001b[0;34m\u001b[0m\u001b[0m\n\u001b[0m\u001b[1;32m     53\u001b[0m   \u001b[0mauto_knnReg\u001b[0m\u001b[0;34m(\u001b[0m\u001b[0mx80_train\u001b[0m\u001b[0;34m,\u001b[0m \u001b[0my80_train\u001b[0m\u001b[0;34m,\u001b[0m \u001b[0mx20_test\u001b[0m\u001b[0;34m,\u001b[0m \u001b[0my20_test\u001b[0m\u001b[0;34m,\u001b[0m \u001b[0mn\u001b[0m\u001b[0;34m)\u001b[0m\u001b[0;34m\u001b[0m\u001b[0;34m\u001b[0m\u001b[0m\n\u001b[1;32m     54\u001b[0m   \u001b[0mauto_knnReg\u001b[0m\u001b[0;34m(\u001b[0m\u001b[0mx90_train\u001b[0m\u001b[0;34m,\u001b[0m \u001b[0my90_train\u001b[0m\u001b[0;34m,\u001b[0m \u001b[0mx10_test\u001b[0m\u001b[0;34m,\u001b[0m \u001b[0my10_test\u001b[0m\u001b[0;34m,\u001b[0m \u001b[0mn\u001b[0m\u001b[0;34m)\u001b[0m\u001b[0;34m\u001b[0m\u001b[0;34m\u001b[0m\u001b[0m\n",
            "\u001b[0;31mNameError\u001b[0m: name 'x70_train' is not defined"
          ]
        }
      ]
    },
    {
      "cell_type": "code",
      "metadata": {
        "id": "6QwhabhmJ7xp"
      },
      "source": [
        "#weighted resulted for all\n",
        "\n",
        "def autoW_knnReg(xtr, ytr, xte, yte, n):\n",
        "  start = time.time()  \n",
        "  model = KNeighborsRegressor(n_neighbors= n, weights = 'distance', n_jobs=-1).fit(xtr, ytr)\n",
        "  pred = model.predict(xte)\n",
        "  print('Mean squared error = {:5.2f}'.format(mean_squared_error(pred, yte)))\n",
        "  \n",
        "  elapsed_time = time.time() - start\n",
        "  print('Elapsed time = {:.4f} secs'.format(elapsed_time))\n",
        "\n",
        "\n",
        "def btW_knnReg(xtr, ytr, xte, yte, n):\n",
        "  start = time.time()  \n",
        "  model = KNeighborsRegressor(n_neighbors = n, weights = 'distance', algorithm = 'ball_tree' ,n_jobs=-1).fit(xtr, ytr)\n",
        "  pred = model.predict(xte)\n",
        "  print('Mean squared error = {:5.2f}'.format(mean_squared_error(pred, yte)))\n",
        "  \n",
        "  elapsed_time = time.time() - start\n",
        "  print('Elapsed time = {:.4f} secs'.format(elapsed_time))\n",
        "\n",
        "\n",
        "def kdW_knnReg(xtr, ytr, xte, yte, n):\n",
        "  start = time.time()  \n",
        "  model = KNeighborsRegressor(n_neighbors = n, weights = 'distance', algorithm = 'kd_tree' ,n_jobs=-1).fit(xtr, ytr)\n",
        "  pred = model.predict(xte)\n",
        "  print('Mean squared error = {:5.2f}'.format(mean_squared_error(pred, yte)))\n",
        "  \n",
        "  \n",
        "  elapsed_time = time.time() - start\n",
        "  print('Elapsed time = {:.4f} secs'.format(elapsed_time))\n",
        "\n",
        "\n",
        "def bruteW_knnReg(xtr, ytr, xte, yte, n):\n",
        "  start = time.time()  \n",
        "  model = KNeighborsRegressor(n_neighbors = n, weights = 'distance', algorithm = 'brute' ,n_jobs=-1).fit(xtr, ytr)\n",
        "  pred = model.predict(xte)\n",
        "  print('Mean squared error = {:5.2f}'.format(mean_squared_error(pred, yte)))\n",
        "  \n",
        "  \n",
        "  elapsed_time = time.time() - start\n",
        "  print('Elapsed time = {:.4f} secs'.format(elapsed_time))\n",
        "\n",
        "\n",
        "#check n from previous results with classifers\n",
        "# n is increasing in order for models to hit the lowest of .25 unlike\n",
        "#unweighted, thus weighted affects MSE and requires n to increase to \n",
        "#get the lowest MSE possible that unweighted got at n = 9, with 90by10\n",
        "\n",
        "#n= 11 hits the .25 with 90by10 first \n",
        "#n = 23 is when all datasets get .25\n",
        "for n in range(7,24,2):\n",
        "  print('n = ', n)\n",
        "  print(\"Weighted ball_tree algorithm\")\n",
        "  btW_knnReg(x70_train, y70_train, x30_test, y30_test, n)\n",
        "  btW_knnReg(x80_train, y80_train, x20_test, y20_test, n)\n",
        "  btW_knnReg(x90_train, y90_train, x10_test, y10_test, n)\n",
        "  print()\n",
        "  print(\"Weighted kd_tree algorithm\")\n",
        "  kdW_knnReg(x70_train, y70_train, x30_test, y30_test, n)\n",
        "  kdW_knnReg(x80_train, y80_train, x20_test, y20_test, n)\n",
        "  kdW_knnReg(x90_train, y90_train, x10_test, y10_test, n)\n",
        "  print()\n",
        "  print(\"WEIGHTED auto algorithm\")\n",
        "  autoW_knnReg(x70_train, y70_train, x30_test, y30_test, n)\n",
        "  autoW_knnReg(x80_train, y80_train, x20_test, y20_test, n)\n",
        "  autoW_knnReg(x90_train, y90_train, x10_test, y10_test, n) \n",
        "  print()\n",
        "\n",
        "#print()\n",
        "#print(\"weighted brute algorithm\")\n",
        "#bruteW_knnReg(x70_train, y70_train, x30_test, y30_test, n)\n",
        "#bruteW_knnReg(x80_train, y80_train, x20_test, y20_test, n)\n",
        "#bruteW_knnReg(x90_train, y90_train, x10_test, y10_test, n)"
      ],
      "execution_count": null,
      "outputs": []
    },
    {
      "cell_type": "markdown",
      "metadata": {
        "id": "YoyAppSBxlt-"
      },
      "source": [
        "it seems as long as it is same n being used on any alorithm, we get the same MSE and the parameter that effects MSE is when we apply weights/distance to the algorithms. We get same MSE  through out and n = 15 was good for classifer knn however, by using a dataset split into 90by10, the regressor's best is n = 9 with uniform weights. When weighted predictions are applied in the regressor, n needs to increase to get the same lowest mse.  \n",
        "\n",
        "for speed, on average the 3 alogrithms to look at are auto, kd_tree, and ball_tree since they average about the same between .1060 to .1070. However, kd_tree seems to have a bit more consistency in speed.\n",
        "\n",
        "\n",
        "Turns out the best result for MSE with KNN regressor is when n = 9, unweighted predictions, dataset split of 90%by10%. algorithm had no effect. "
      ]
    },
    {
      "cell_type": "markdown",
      "metadata": {
        "id": "kpsVWXonADtU"
      },
      "source": [
        "# MSE and speed results of KNN Regressor Model\n",
        "\n",
        "Best KNN regressor model is n = 9 with unweighted predictions with lowest MSE of .25 and to get the best speed its a tie between auto, ball_tree, and kd_tree averaging in .1065 but kd_tree has more consistent speed results. "
      ]
    },
    {
      "cell_type": "markdown",
      "metadata": {
        "id": "s9rbDUk4f5Gc"
      },
      "source": [
        "#**Decision Tree Regressor model**"
      ]
    },
    {
      "cell_type": "markdown",
      "metadata": {
        "id": "OPb4nEutWVGd"
      },
      "source": [
        "Default "
      ]
    },
    {
      "cell_type": "code",
      "metadata": {
        "colab": {
          "base_uri": "https://localhost:8080/"
        },
        "id": "Co-Z4OD-AND8",
        "outputId": "7c3e2473-d821-412b-8dbe-8a441960b967"
      },
      "source": [
        "#default decision tree regressor best or random \n",
        "\n",
        "def default_DTR(xtr, ytr, xte, yte):\n",
        " \n",
        "  start = time.time()\n",
        "  model = DecisionTreeRegressor(random_state=42).fit(xtr, ytr) #to get consistent results\n",
        "  pred= model.predict(xte)\n",
        "\n",
        "  print('Mean squared error = {:5.2f}'.format(mean_squared_error(pred,yte)))\n",
        "  elapsed_time = time.time() - start\n",
        "  print('Elapsed time = {:.4f} secs'.format(elapsed_time))\n",
        "\n",
        "\n",
        "def defaultR_DTR(xtr, ytr, xte, yte):\n",
        "   \n",
        "  start = time.time()\n",
        "  model = DecisionTreeRegressor(splitter = 'random', random_state=42).fit(xtr, ytr)\n",
        "  pred= model.predict(xte)\n",
        "    \n",
        "  print('Mean squared error = {:5.2f}'.format(mean_squared_error(pred,yte)))\n",
        "  elapsed_time = time.time() - start\n",
        "  print('Elapsed time = {:.4f} secs'.format(elapsed_time))\n",
        "  \n",
        "\n",
        "print(\"best split\")\n",
        "default_DTR(x70_train, y70_train, x30_test, y30_test)\n",
        "default_DTR(x80_train, y80_train, x20_test, y20_test)\n",
        "default_DTR(x90_train, y90_train, x10_test, y10_test)\n",
        "\n",
        "print(\"random\")\n",
        "defaultR_DTR(x70_train, y70_train, x30_test, y30_test)\n",
        "defaultR_DTR(x80_train, y80_train, x20_test, y20_test)\n",
        "defaultR_DTR(x90_train, y90_train, x10_test, y10_test)\n"
      ],
      "execution_count": null,
      "outputs": [
        {
          "output_type": "stream",
          "name": "stdout",
          "text": [
            "best split\n",
            "Mean squared error =  0.37\n",
            "Elapsed time = 0.0153 secs\n",
            "Mean squared error =  0.38\n",
            "Elapsed time = 0.0192 secs\n",
            "Mean squared error =  0.44\n",
            "Elapsed time = 0.0209 secs\n",
            "random\n",
            "Mean squared error =  0.38\n",
            "Elapsed time = 0.0039 secs\n",
            "Mean squared error =  0.41\n",
            "Elapsed time = 0.0039 secs\n",
            "Mean squared error =  0.44\n",
            "Elapsed time = 0.0044 secs\n"
          ]
        }
      ]
    },
    {
      "cell_type": "markdown",
      "metadata": {
        "id": "o3u5ad7PF08e"
      },
      "source": [
        "Bagging introduced"
      ]
    },
    {
      "cell_type": "code",
      "metadata": {
        "colab": {
          "base_uri": "https://localhost:8080/"
        },
        "id": "7TNr6Ad5J-dQ",
        "outputId": "ff82220a-54b0-465d-f144-2341b45508c3"
      },
      "source": [
        "#TREE WITH BAG best results were from sklearn library with random_state =42\n",
        "#messing with max featueres isnt best for this because best result is when \n",
        "#all features are used \n",
        "\n",
        "def bagr_DTR(xtr, ytr, xte, yte, rand_state = 0):\n",
        "\n",
        "    start = time.time()\n",
        "    model = BaggingRegressor(random_state=rand_state).fit(xtr, ytr)\n",
        "    pred = model.predict(xte)\n",
        "    print('Mean squared error = {:5.2f}'.format(mean_squared_error(pred,yte)))\n",
        "    elapsed_time = time.time() - start\n",
        "    print('Elapsed time = {:.4f} secs'.format(elapsed_time))\n",
        "  \n",
        "\n",
        "\n",
        "print(\"bagging regressor, random state = 0\")\n",
        "print(\"70/30\")\n",
        "print()\n",
        "bagr_DTR(x70_train, y70_train, x30_test, y30_test)\n",
        "print(\"80/20\")\n",
        "bagr_DTR(x80_train, y80_train, x20_test, y20_test)\n",
        "print(\"90/10\")\n",
        "bagr_DTR(x90_train, y90_train, x10_test, y10_test)\n",
        "\n",
        "print()\n",
        "r_st = 42\n",
        "print(\"bagging regressor, random state = \", r_st)\n",
        "print()\n",
        "print(\"70/30\")\n",
        "bagr_DTR(x70_train, y70_train, x30_test, y30_test, r_st)\n",
        "print(\"80/20\")\n",
        "bagr_DTR(x80_train, y80_train, x20_test, y20_test, r_st)#best result\n",
        "print(\"90/10\")\n",
        "bagr_DTR(x90_train, y90_train, x10_test, y10_test, r_st)"
      ],
      "execution_count": null,
      "outputs": [
        {
          "output_type": "stream",
          "name": "stdout",
          "text": [
            "bagging regressor, random state = 0\n",
            "70/30\n",
            "\n",
            "Mean squared error =  0.22\n",
            "Elapsed time = 0.1012 secs\n",
            "80/20\n",
            "Mean squared error =  0.22\n",
            "Elapsed time = 0.1065 secs\n",
            "90/10\n",
            "Mean squared error =  0.22\n",
            "Elapsed time = 0.1456 secs\n",
            "\n",
            "bagging regressor, random state =  42\n",
            "\n",
            "70/30\n",
            "Mean squared error =  0.23\n",
            "Elapsed time = 0.1038 secs\n",
            "80/20\n",
            "Mean squared error =  0.21\n",
            "Elapsed time = 0.1175 secs\n",
            "90/10\n",
            "Mean squared error =  0.25\n",
            "Elapsed time = 0.1419 secs\n"
          ]
        }
      ]
    },
    {
      "cell_type": "code",
      "metadata": {
        "colab": {
          "base_uri": "https://localhost:8080/"
        },
        "id": "r-XIJkcLu1cj",
        "outputId": "4ef2e853-97fb-4181-b34d-bdaaf189cacd"
      },
      "source": [
        "#best dtr bagging regressor from library since by default, the base estimator \n",
        "#used is a decision tree regressor\n",
        "\n",
        "def best_dtrbag(xtr, ytr, xte, yte, rand_state = 0):\n",
        "  \n",
        "  start = time.time()\n",
        "  model = BaggingRegressor(random_state=rand_state).fit(xtr, ytr)\n",
        "  pred = model.predict(xte)\n",
        "  print('Mean squared error = {:5.2f}'.format(mean_squared_error(pred,yte)))\n",
        "  elapsed_time = time.time() - start\n",
        "  print('Elapsed time = {:.4f} secs'.format(elapsed_time))\n",
        " \n",
        "rand_state = 42\n",
        "print(\"best results using bagging regressor library\")\n",
        "best_dtrbag(x80_train, y80_train, x20_test, y20_test, rand_state)"
      ],
      "execution_count": null,
      "outputs": [
        {
          "output_type": "stream",
          "name": "stdout",
          "text": [
            "best results using bagging regressor library\n",
            "Mean squared error =  0.21\n",
            "Elapsed time = 0.1125 secs\n"
          ]
        }
      ]
    },
    {
      "cell_type": "markdown",
      "metadata": {
        "id": "gHtluBagWTQ7"
      },
      "source": [
        "Get best depth, alter random state, max_features, and criterion of split, \n",
        "and test between best vs random splitter"
      ]
    },
    {
      "cell_type": "code",
      "metadata": {
        "colab": {
          "base_uri": "https://localhost:8080/"
        },
        "id": "XEfvYOBoWH9d",
        "outputId": "7c1b2095-11ff-4dfb-aee8-14c9296bdace"
      },
      "source": [
        "#criterion = 'mse', friedman_mse, no difference\n",
        "#max_features=None (column based, can go up to 9, this is related to attributes)\n",
        "#kept changing other paramters values and max_depth was still 4\n",
        "\n",
        "def bes_DTR(xtr, ytr, xte, yte, rand_state = 0):\n",
        "  best_mse = 0\n",
        "  best_d = 0\n",
        "  speed = 0\n",
        "\n",
        "  for bestMF in range (1,9):  \n",
        "    print(\"bestmf: \",bestMF)\n",
        "    for depth in range (1,8):  \n",
        "      start = time.time()\n",
        "      model = DecisionTreeRegressor(max_depth = depth, random_state = rand_state, max_features=bestMF).fit(xtr, ytr)\n",
        "      pred = model.predict(xte)\n",
        "      mse = mean_squared_error(pred,yte)\n",
        "\n",
        "    \n",
        "      #print('Mean squared error = {:5.2f}'.format(mean_squared_error(pred,yte)))\n",
        "      elapsed_time = time.time() - start\n",
        "      #print('Elapsed time = {:.4f} secs'.format(elapsed_time))\n",
        "      if(best_mse < mse):\n",
        "        best_mse = mse\n",
        "        best_d = depth\n",
        "        speed = elapsed_time\n",
        "\n",
        "    print('Max_depth = {};, R_mse = {:7.4f}'.format(best_d , best_mse))\n",
        "    print('Elapsed time = {:.4f} secs'.format(speed))\n",
        "    print()\n",
        "\n",
        "\n",
        "def rand_DTR(xtr, ytr, xte, yte, rand_state = 0):\n",
        "  best_mse = 0\n",
        "  best_d = 0\n",
        "  speed = 0\n",
        "\n",
        "  for bestMF in range (1,xtr.shape[1]):\n",
        "    print(\"bestmf: \",bestMF)\n",
        "    for depth in range (1,8):   \n",
        "      start = time.time()\n",
        "      model = DecisionTreeRegressor(splitter='random', max_depth = depth, random_state = rand_state, max_features=bestMF).fit(xtr, ytr)\n",
        "      pred = model.predict(xte)\n",
        "      mse = mean_squared_error(pred,yte)\n",
        "\n",
        "      \n",
        "      #print('Mean squared error = {:5.2f}'.format(mean_squared_error(pred,yte)))\n",
        "      elapsed_time = time.time() - start\n",
        "      #print('Elapsed time = {:.4f} secs'.format(elapsed_time))\n",
        "\n",
        "      if(best_mse < mse):\n",
        "        best_mse = mse\n",
        "        best_d = depth\n",
        "        speed = elapsed_time\n",
        "    print('Max_depth = {};, R_mse = {:7.4f}'.format(best_d , best_mse))\n",
        "    print('Elapsed time = {:.4f} secs'.format(speed))\n",
        "    print()\n",
        "\n",
        "\n",
        "\n",
        "#best depth results are between 2 through 6\n",
        "#depth of 4have best results overall\n",
        "#for d in range(3,5)\n",
        "\n",
        "\n",
        "\n",
        "print(\"randon splitter,rand_state = 42\")\n",
        "rand_DTR(x70_train, y70_train, x30_test, y30_test, rand_s)\n",
        "rand_DTR(x80_train, y80_train, x20_test, y20_test, rand_s)\n",
        "rand_DTR(x90_train, y90_train, x10_test, y10_test, rand_s)\n",
        "print()"
      ],
      "execution_count": null,
      "outputs": [
        {
          "output_type": "stream",
          "name": "stdout",
          "text": [
            "randon splitter,rand_state = 42\n",
            "bestmf:  1\n",
            "Max_depth = 1;, R_mse =  0.2384\n",
            "Elapsed time = 0.0013 secs\n",
            "\n",
            "bestmf:  2\n",
            "Max_depth = 7;, R_mse =  0.2467\n",
            "Elapsed time = 0.0010 secs\n",
            "\n",
            "bestmf:  3\n",
            "Max_depth = 7;, R_mse =  0.2467\n",
            "Elapsed time = 0.0010 secs\n",
            "\n",
            "bestmf:  4\n",
            "Max_depth = 7;, R_mse =  0.2467\n",
            "Elapsed time = 0.0010 secs\n",
            "\n",
            "bestmf:  5\n",
            "Max_depth = 7;, R_mse =  0.2467\n",
            "Elapsed time = 0.0010 secs\n",
            "\n",
            "bestmf:  6\n",
            "Max_depth = 7;, R_mse =  0.2467\n",
            "Elapsed time = 0.0010 secs\n",
            "\n",
            "bestmf:  7\n",
            "Max_depth = 7;, R_mse =  0.2467\n",
            "Elapsed time = 0.0010 secs\n",
            "\n",
            "bestmf:  8\n",
            "Max_depth = 7;, R_mse =  0.2467\n",
            "Elapsed time = 0.0010 secs\n",
            "\n",
            "bestmf:  1\n",
            "Max_depth = 1;, R_mse =  0.2378\n",
            "Elapsed time = 0.0021 secs\n",
            "\n",
            "bestmf:  2\n",
            "Max_depth = 7;, R_mse =  0.2409\n",
            "Elapsed time = 0.0010 secs\n",
            "\n",
            "bestmf:  3\n",
            "Max_depth = 5;, R_mse =  0.2444\n",
            "Elapsed time = 0.0009 secs\n",
            "\n",
            "bestmf:  4\n",
            "Max_depth = 5;, R_mse =  0.2444\n",
            "Elapsed time = 0.0009 secs\n",
            "\n",
            "bestmf:  5\n",
            "Max_depth = 5;, R_mse =  0.2444\n",
            "Elapsed time = 0.0009 secs\n",
            "\n",
            "bestmf:  6\n",
            "Max_depth = 5;, R_mse =  0.2490\n",
            "Elapsed time = 0.0011 secs\n",
            "\n",
            "bestmf:  7\n",
            "Max_depth = 5;, R_mse =  0.2490\n",
            "Elapsed time = 0.0011 secs\n",
            "\n",
            "bestmf:  8\n",
            "Max_depth = 5;, R_mse =  0.2490\n",
            "Elapsed time = 0.0011 secs\n",
            "\n",
            "bestmf:  1\n",
            "Max_depth = 1;, R_mse =  0.2434\n",
            "Elapsed time = 0.0009 secs\n",
            "\n",
            "bestmf:  2\n",
            "Max_depth = 7;, R_mse =  0.2554\n",
            "Elapsed time = 0.0010 secs\n",
            "\n",
            "bestmf:  3\n",
            "Max_depth = 7;, R_mse =  0.2620\n",
            "Elapsed time = 0.0011 secs\n",
            "\n",
            "bestmf:  4\n",
            "Max_depth = 7;, R_mse =  0.2620\n",
            "Elapsed time = 0.0011 secs\n",
            "\n",
            "bestmf:  5\n",
            "Max_depth = 7;, R_mse =  0.2620\n",
            "Elapsed time = 0.0011 secs\n",
            "\n",
            "bestmf:  6\n",
            "Max_depth = 7;, R_mse =  0.2620\n",
            "Elapsed time = 0.0011 secs\n",
            "\n",
            "bestmf:  7\n",
            "Max_depth = 7;, R_mse =  0.2620\n",
            "Elapsed time = 0.0011 secs\n",
            "\n",
            "bestmf:  8\n",
            "Max_depth = 7;, R_mse =  0.2620\n",
            "Elapsed time = 0.0011 secs\n",
            "\n",
            "\n"
          ]
        }
      ]
    },
    {
      "cell_type": "markdown",
      "metadata": {
        "id": "vjq7NMzKxTYM"
      },
      "source": [
        "# Best Decision Tree Regressor"
      ]
    },
    {
      "cell_type": "code",
      "metadata": {
        "colab": {
          "base_uri": "https://localhost:8080/"
        },
        "id": "dwOeFMJnwJEM",
        "outputId": "173ec2e2-fa3c-47de-e96c-1f6982d68391"
      },
      "source": [
        "def Best_DTR(xtr, ytr, xte, yte, d = 4):\n",
        "  start = time.time()\n",
        "  model = DecisionTreeRegressor( max_depth = d, random_state = 42, max_features=8).fit(xtr, ytr)\n",
        "  pred = model.predict(xte)\n",
        "  print('Mean squared error = {:5.2f}'.format(mean_squared_error(pred,yte)))\n",
        "\n",
        "  elapsed_time = time.time() - start\n",
        "  print('Elapsed time = {:.4f} secs'.format(elapsed_time))\n",
        "Best_DTR(x70_train, y70_train, x30_test, y30_test)\n",
        "Best_DTR(x80_train, y80_train, x20_test, y20_test)\n",
        "Best_DTR(x90_train, y90_train, x10_test, y10_test)"
      ],
      "execution_count": null,
      "outputs": [
        {
          "output_type": "stream",
          "name": "stdout",
          "text": [
            "Mean squared error =  0.23\n",
            "Elapsed time = 0.0095 secs\n",
            "Mean squared error =  0.22\n",
            "Elapsed time = 0.0069 secs\n",
            "Mean squared error =  0.24\n",
            "Elapsed time = 0.0074 secs\n"
          ]
        }
      ]
    },
    {
      "cell_type": "markdown",
      "metadata": {
        "id": "-ZQ9HKaAAKAM"
      },
      "source": [
        "# MSE and speed results of Decision Tree Regressor Model\n",
        "\n",
        "best decision tree regressor model created was trained with the 80by20 dataset split, max_depth = 4, max_feature = 8, random_state =42, and using default splitter of 'best'. Random splitter hindered best mse results even with random_state being applied. The randomness that works well in this instance is applying random_state with max_features and in this dataset, max_features = 8 helped us reached the lowest mse. Mean squared error =  0.22\n",
        "Elapsed time = 0.0122 secs\n",
        "\n"
      ]
    },
    {
      "cell_type": "markdown",
      "metadata": {
        "id": "JzgL3YQpX7_z"
      },
      "source": [
        "# **Best models for regressors with their paramaters** "
      ]
    },
    {
      "cell_type": "code",
      "metadata": {
        "colab": {
          "base_uri": "https://localhost:8080/"
        },
        "id": "oF6t0kyGYBKO",
        "outputId": "2e7e7861-e916-4efa-bb43-1df3304adeb8"
      },
      "source": [
        "#knn regressor bestt\n",
        "print(\"Best knn Regressor\")\n",
        "#algorithm doesnt matter, and hits best at n = 9\n",
        "auto_knnReg(x90_train, y90_train, x10_test, y10_test, 9)\n",
        "\n",
        "print()\n",
        "#best two regressor models\n",
        "print(\"Bagging regressor using sklearn library bagging regressor\")\n",
        "best_dtrbag(x80_train, y80_train, x20_test, y20_test)\n",
        "\n",
        "#if unable to use that library Bagging Regressor Library, \n",
        "# Best model with decision tree regressor with changing paramters\n",
        "# depth = 4, and max_feature = 8, random_state = 42\n",
        "print()\n",
        "print(\"Best Decision Tree Regressor\")\n",
        "Best_DTR(x80_train, y80_train, x20_test, y20_test)"
      ],
      "execution_count": null,
      "outputs": [
        {
          "output_type": "stream",
          "name": "stdout",
          "text": [
            "Best knn Regressor\n",
            "Mean squared error =  0.25\n",
            "Elapsed time = 0.1085 secs\n",
            "\n",
            "Bagging regressor using sklearn library bagging regressor\n",
            "Mean squared error =  0.22\n",
            "Elapsed time = 0.1175 secs\n",
            "\n",
            "Best Decision Tree Regressor\n",
            "Mean squared error =  0.22\n",
            "Elapsed time = 0.0066 secs\n"
          ]
        }
      ]
    },
    {
      "cell_type": "markdown",
      "metadata": {
        "id": "tbYhgPo9zUHb"
      },
      "source": [
        "# **Conclusion! Best Models:**\n",
        "\n",
        "## Best Classifers:\n",
        "\n",
        "**Decision tree classifer**\n",
        "\n",
        "\n",
        "\n",
        "with  max_depth = 9, \n",
        "\n",
        "random_state = 42, \n",
        "\n",
        "max_features = 8 \n",
        "\n",
        "using entropy over gini,\n",
        "\n",
        "and with a training set of 80% \n",
        " \n",
        "training and 20%test.\n",
        "\n",
        "results:\n",
        "\n",
        "Accuracy = 0.6898\n",
        "\n",
        "Elapsed time = 0.0280 secs\n",
        "\n",
        "## Best regressor :\n",
        "\n",
        "**sklearn library bagging regressor**\n",
        "\n",
        " with random_state = 42, \n",
        "\n",
        " and 80% training and 20%test\n",
        "\n",
        "results:\n",
        "\n",
        "Mean squared error =  0.21\n",
        "\n",
        "Elapsed time = 0.1125 secs\n",
        "\n",
        "\n",
        "\n",
        "**OR**\n",
        "**decision Tree Regressor**\n",
        "\n",
        " with depth = 4, \n",
        " \n",
        " and max_feature = 8, \n",
        " \n",
        " random_state = 42, \n",
        " \n",
        " 80% training and 20%test.\n",
        "\n",
        " results:\n",
        "\n",
        " Mean squared error =  0.22 \n",
        " \n",
        " and Elapsed time = 0.0108 secs\n"
      ]
    },
    {
      "cell_type": "markdown",
      "metadata": {
        "id": "C814oWygW-EQ"
      },
      "source": [
        "# Part 2b"
      ]
    },
    {
      "cell_type": "markdown",
      "metadata": {
        "id": "RLrThovivvEY"
      },
      "source": [
        " (Mandatory for CS5361, extra credit for CS4361). The file water_potability_original.xlsx contains a superset of the data in water_potability.xlsx, but some of the instances have missing values, indicated as an empty cell in the excel file.\n",
        "\n",
        "Repeat the experiments from part 2, but now use this bigger file. Replace missing values by the mean value of the corresponding attribute in the training set.\n",
        "\n",
        "That is, if X_train[i,j] is missing, replace it by np.mean(X_train[ind,j]), where ind is the list of indices of examples where attribute j is not missing.\n",
        "\n",
        "If X_test[i,j] is missing, replace it also by np.mean(X_train[ind,j]).\n",
        "\n",
        "For extra credit, try a better way to 'guess' the missing values."
      ]
    },
    {
      "cell_type": "markdown",
      "metadata": {
        "id": "3joyEKR5hCpz"
      },
      "source": [
        "# **Steps on better way to guess missing values**"
      ]
    },
    {
      "cell_type": "markdown",
      "metadata": {
        "id": "aot4vSpZhwmO"
      },
      "source": [
        "1.\n",
        "2.\n",
        "3.\n"
      ]
    },
    {
      "cell_type": "code",
      "metadata": {
        "id": "w5aCAqMFEbqQ",
        "colab": {
          "resources": {
            "http://localhost:8080/nbextensions/google.colab/files.js": {
              "data": "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",
              "ok": true,
              "headers": [
                [
                  "content-type",
                  "application/javascript"
                ]
              ],
              "status": 200,
              "status_text": ""
            }
          },
          "base_uri": "https://localhost:8080/",
          "height": 73
        },
        "outputId": "24cf1d16-d79c-4d9f-cc4d-dfe1947e73f9"
      },
      "source": [
        "#upload the other xlsx file\n",
        "from google.colab import files\n",
        "uploaded = files.upload()"
      ],
      "execution_count": null,
      "outputs": [
        {
          "output_type": "display_data",
          "data": {
            "text/html": [
              "\n",
              "     <input type=\"file\" id=\"files-b7f8edad-1b7b-4c0c-a8b0-cafaae11bb9f\" name=\"files[]\" multiple disabled\n",
              "        style=\"border:none\" />\n",
              "     <output id=\"result-b7f8edad-1b7b-4c0c-a8b0-cafaae11bb9f\">\n",
              "      Upload widget is only available when the cell has been executed in the\n",
              "      current browser session. Please rerun this cell to enable.\n",
              "      </output>\n",
              "      <script src=\"/nbextensions/google.colab/files.js\"></script> "
            ],
            "text/plain": [
              "<IPython.core.display.HTML object>"
            ]
          },
          "metadata": {}
        },
        {
          "output_type": "stream",
          "name": "stdout",
          "text": [
            "Saving water_potability_original.xlsx to water_potability_original.xlsx\n"
          ]
        }
      ]
    },
    {
      "cell_type": "code",
      "metadata": {
        "id": "9HOJzPj0Eibl",
        "colab": {
          "base_uri": "https://localhost:8080/"
        },
        "outputId": "b82e66de-a03b-47ef-81f6-fd67881df824"
      },
      "source": [
        "!ls #check both files are in colab before starting"
      ],
      "execution_count": null,
      "outputs": [
        {
          "output_type": "stream",
          "name": "stdout",
          "text": [
            "sample_data\n"
          ]
        }
      ]
    },
    {
      "cell_type": "code",
      "metadata": {
        "id": "YGjTisgqElM1",
        "colab": {
          "base_uri": "https://localhost:8080/",
          "height": 423
        },
        "outputId": "25bdc9da-e379-4423-f4dc-8d8ca1e26012"
      },
      "source": [
        "import pandas as pd\n",
        "\n",
        "water_df = pd.read_excel('water_potability_original.xlsx')\n",
        "\n",
        "water_df"
      ],
      "execution_count": null,
      "outputs": [
        {
          "output_type": "execute_result",
          "data": {
            "text/html": [
              "<div>\n",
              "<style scoped>\n",
              "    .dataframe tbody tr th:only-of-type {\n",
              "        vertical-align: middle;\n",
              "    }\n",
              "\n",
              "    .dataframe tbody tr th {\n",
              "        vertical-align: top;\n",
              "    }\n",
              "\n",
              "    .dataframe thead th {\n",
              "        text-align: right;\n",
              "    }\n",
              "</style>\n",
              "<table border=\"1\" class=\"dataframe\">\n",
              "  <thead>\n",
              "    <tr style=\"text-align: right;\">\n",
              "      <th></th>\n",
              "      <th>ph</th>\n",
              "      <th>Hardness</th>\n",
              "      <th>Solids</th>\n",
              "      <th>Chloramines</th>\n",
              "      <th>Sulfate</th>\n",
              "      <th>Conductivity</th>\n",
              "      <th>Organic_carbon</th>\n",
              "      <th>Trihalomethanes</th>\n",
              "      <th>Turbidity</th>\n",
              "      <th>Potability</th>\n",
              "    </tr>\n",
              "  </thead>\n",
              "  <tbody>\n",
              "    <tr>\n",
              "      <th>0</th>\n",
              "      <td>NaN</td>\n",
              "      <td>204.890455</td>\n",
              "      <td>20791.318981</td>\n",
              "      <td>7.300212</td>\n",
              "      <td>368.516441</td>\n",
              "      <td>564.308654</td>\n",
              "      <td>10.379783</td>\n",
              "      <td>86.990970</td>\n",
              "      <td>2.963135</td>\n",
              "      <td>0</td>\n",
              "    </tr>\n",
              "    <tr>\n",
              "      <th>1</th>\n",
              "      <td>3.716080</td>\n",
              "      <td>129.422921</td>\n",
              "      <td>18630.057858</td>\n",
              "      <td>6.635246</td>\n",
              "      <td>NaN</td>\n",
              "      <td>592.885359</td>\n",
              "      <td>15.180013</td>\n",
              "      <td>56.329076</td>\n",
              "      <td>4.500656</td>\n",
              "      <td>0</td>\n",
              "    </tr>\n",
              "    <tr>\n",
              "      <th>2</th>\n",
              "      <td>8.099124</td>\n",
              "      <td>224.236259</td>\n",
              "      <td>19909.541732</td>\n",
              "      <td>9.275884</td>\n",
              "      <td>NaN</td>\n",
              "      <td>418.606213</td>\n",
              "      <td>16.868637</td>\n",
              "      <td>66.420093</td>\n",
              "      <td>3.055934</td>\n",
              "      <td>0</td>\n",
              "    </tr>\n",
              "    <tr>\n",
              "      <th>3</th>\n",
              "      <td>8.316766</td>\n",
              "      <td>214.373394</td>\n",
              "      <td>22018.417441</td>\n",
              "      <td>8.059332</td>\n",
              "      <td>356.886136</td>\n",
              "      <td>363.266516</td>\n",
              "      <td>18.436524</td>\n",
              "      <td>100.341674</td>\n",
              "      <td>4.628771</td>\n",
              "      <td>0</td>\n",
              "    </tr>\n",
              "    <tr>\n",
              "      <th>4</th>\n",
              "      <td>9.092223</td>\n",
              "      <td>181.101509</td>\n",
              "      <td>17978.986339</td>\n",
              "      <td>6.546600</td>\n",
              "      <td>310.135738</td>\n",
              "      <td>398.410813</td>\n",
              "      <td>11.558279</td>\n",
              "      <td>31.997993</td>\n",
              "      <td>4.075075</td>\n",
              "      <td>0</td>\n",
              "    </tr>\n",
              "    <tr>\n",
              "      <th>...</th>\n",
              "      <td>...</td>\n",
              "      <td>...</td>\n",
              "      <td>...</td>\n",
              "      <td>...</td>\n",
              "      <td>...</td>\n",
              "      <td>...</td>\n",
              "      <td>...</td>\n",
              "      <td>...</td>\n",
              "      <td>...</td>\n",
              "      <td>...</td>\n",
              "    </tr>\n",
              "    <tr>\n",
              "      <th>3271</th>\n",
              "      <td>4.668102</td>\n",
              "      <td>193.681735</td>\n",
              "      <td>47580.991603</td>\n",
              "      <td>7.166639</td>\n",
              "      <td>359.948574</td>\n",
              "      <td>526.424171</td>\n",
              "      <td>13.894419</td>\n",
              "      <td>66.687695</td>\n",
              "      <td>4.435821</td>\n",
              "      <td>1</td>\n",
              "    </tr>\n",
              "    <tr>\n",
              "      <th>3272</th>\n",
              "      <td>7.808856</td>\n",
              "      <td>193.553212</td>\n",
              "      <td>17329.802160</td>\n",
              "      <td>8.061362</td>\n",
              "      <td>NaN</td>\n",
              "      <td>392.449580</td>\n",
              "      <td>19.903225</td>\n",
              "      <td>NaN</td>\n",
              "      <td>2.798243</td>\n",
              "      <td>1</td>\n",
              "    </tr>\n",
              "    <tr>\n",
              "      <th>3273</th>\n",
              "      <td>9.419510</td>\n",
              "      <td>175.762646</td>\n",
              "      <td>33155.578218</td>\n",
              "      <td>7.350233</td>\n",
              "      <td>NaN</td>\n",
              "      <td>432.044783</td>\n",
              "      <td>11.039070</td>\n",
              "      <td>69.845400</td>\n",
              "      <td>3.298875</td>\n",
              "      <td>1</td>\n",
              "    </tr>\n",
              "    <tr>\n",
              "      <th>3274</th>\n",
              "      <td>5.126763</td>\n",
              "      <td>230.603758</td>\n",
              "      <td>11983.869376</td>\n",
              "      <td>6.303357</td>\n",
              "      <td>NaN</td>\n",
              "      <td>402.883113</td>\n",
              "      <td>11.168946</td>\n",
              "      <td>77.488213</td>\n",
              "      <td>4.708658</td>\n",
              "      <td>1</td>\n",
              "    </tr>\n",
              "    <tr>\n",
              "      <th>3275</th>\n",
              "      <td>7.874671</td>\n",
              "      <td>195.102299</td>\n",
              "      <td>17404.177061</td>\n",
              "      <td>7.509306</td>\n",
              "      <td>NaN</td>\n",
              "      <td>327.459760</td>\n",
              "      <td>16.140368</td>\n",
              "      <td>78.698446</td>\n",
              "      <td>2.309149</td>\n",
              "      <td>1</td>\n",
              "    </tr>\n",
              "  </tbody>\n",
              "</table>\n",
              "<p>3276 rows × 10 columns</p>\n",
              "</div>"
            ],
            "text/plain": [
              "            ph    Hardness  ...  Turbidity  Potability\n",
              "0          NaN  204.890455  ...   2.963135           0\n",
              "1     3.716080  129.422921  ...   4.500656           0\n",
              "2     8.099124  224.236259  ...   3.055934           0\n",
              "3     8.316766  214.373394  ...   4.628771           0\n",
              "4     9.092223  181.101509  ...   4.075075           0\n",
              "...        ...         ...  ...        ...         ...\n",
              "3271  4.668102  193.681735  ...   4.435821           1\n",
              "3272  7.808856  193.553212  ...   2.798243           1\n",
              "3273  9.419510  175.762646  ...   3.298875           1\n",
              "3274  5.126763  230.603758  ...   4.708658           1\n",
              "3275  7.874671  195.102299  ...   2.309149           1\n",
              "\n",
              "[3276 rows x 10 columns]"
            ]
          },
          "metadata": {},
          "execution_count": 7
        }
      ]
    },
    {
      "cell_type": "code",
      "metadata": {
        "id": "YH-5fccTif_y",
        "outputId": "7ca278f4-f78e-43c8-b044-a9fffa58d9aa",
        "colab": {
          "base_uri": "https://localhost:8080/",
          "height": 423
        }
      },
      "source": [
        "water_df1 = pd.read_excel('water_potability.xlsx')\n",
        "\n",
        "water_df1"
      ],
      "execution_count": null,
      "outputs": [
        {
          "output_type": "execute_result",
          "data": {
            "text/html": [
              "<div>\n",
              "<style scoped>\n",
              "    .dataframe tbody tr th:only-of-type {\n",
              "        vertical-align: middle;\n",
              "    }\n",
              "\n",
              "    .dataframe tbody tr th {\n",
              "        vertical-align: top;\n",
              "    }\n",
              "\n",
              "    .dataframe thead th {\n",
              "        text-align: right;\n",
              "    }\n",
              "</style>\n",
              "<table border=\"1\" class=\"dataframe\">\n",
              "  <thead>\n",
              "    <tr style=\"text-align: right;\">\n",
              "      <th></th>\n",
              "      <th>ph</th>\n",
              "      <th>Hardness</th>\n",
              "      <th>Solids</th>\n",
              "      <th>Chloramines</th>\n",
              "      <th>Sulfate</th>\n",
              "      <th>Conductivity</th>\n",
              "      <th>Organic_carbon</th>\n",
              "      <th>Trihalomethanes</th>\n",
              "      <th>Turbidity</th>\n",
              "      <th>Potability</th>\n",
              "    </tr>\n",
              "  </thead>\n",
              "  <tbody>\n",
              "    <tr>\n",
              "      <th>0</th>\n",
              "      <td>7.899452</td>\n",
              "      <td>210.734124</td>\n",
              "      <td>15896.365940</td>\n",
              "      <td>6.907203</td>\n",
              "      <td>319.886957</td>\n",
              "      <td>448.666423</td>\n",
              "      <td>18.169921</td>\n",
              "      <td>124.000000</td>\n",
              "      <td>2.853767</td>\n",
              "      <td>1</td>\n",
              "    </tr>\n",
              "    <tr>\n",
              "      <th>1</th>\n",
              "      <td>6.145148</td>\n",
              "      <td>197.541072</td>\n",
              "      <td>39657.272110</td>\n",
              "      <td>9.900159</td>\n",
              "      <td>288.157883</td>\n",
              "      <td>319.434033</td>\n",
              "      <td>11.587378</td>\n",
              "      <td>120.030077</td>\n",
              "      <td>4.600886</td>\n",
              "      <td>0</td>\n",
              "    </tr>\n",
              "    <tr>\n",
              "      <th>2</th>\n",
              "      <td>5.036454</td>\n",
              "      <td>190.164520</td>\n",
              "      <td>29258.738140</td>\n",
              "      <td>4.991061</td>\n",
              "      <td>300.475925</td>\n",
              "      <td>332.359715</td>\n",
              "      <td>11.055801</td>\n",
              "      <td>116.161622</td>\n",
              "      <td>3.534665</td>\n",
              "      <td>1</td>\n",
              "    </tr>\n",
              "    <tr>\n",
              "      <th>3</th>\n",
              "      <td>8.969697</td>\n",
              "      <td>195.744765</td>\n",
              "      <td>9049.682595</td>\n",
              "      <td>7.467068</td>\n",
              "      <td>396.453568</td>\n",
              "      <td>378.528511</td>\n",
              "      <td>17.757697</td>\n",
              "      <td>114.208671</td>\n",
              "      <td>3.983099</td>\n",
              "      <td>0</td>\n",
              "    </tr>\n",
              "    <tr>\n",
              "      <th>4</th>\n",
              "      <td>8.285072</td>\n",
              "      <td>151.573778</td>\n",
              "      <td>14402.726700</td>\n",
              "      <td>9.050080</td>\n",
              "      <td>303.081838</td>\n",
              "      <td>322.521815</td>\n",
              "      <td>13.652653</td>\n",
              "      <td>114.034946</td>\n",
              "      <td>4.274661</td>\n",
              "      <td>1</td>\n",
              "    </tr>\n",
              "    <tr>\n",
              "      <th>...</th>\n",
              "      <td>...</td>\n",
              "      <td>...</td>\n",
              "      <td>...</td>\n",
              "      <td>...</td>\n",
              "      <td>...</td>\n",
              "      <td>...</td>\n",
              "      <td>...</td>\n",
              "      <td>...</td>\n",
              "      <td>...</td>\n",
              "      <td>...</td>\n",
              "    </tr>\n",
              "    <tr>\n",
              "      <th>2006</th>\n",
              "      <td>7.058866</td>\n",
              "      <td>191.548401</td>\n",
              "      <td>16473.067090</td>\n",
              "      <td>8.435789</td>\n",
              "      <td>367.853180</td>\n",
              "      <td>462.993729</td>\n",
              "      <td>12.574420</td>\n",
              "      <td>17.527765</td>\n",
              "      <td>3.937334</td>\n",
              "      <td>1</td>\n",
              "    </tr>\n",
              "    <tr>\n",
              "      <th>2007</th>\n",
              "      <td>8.281121</td>\n",
              "      <td>227.654351</td>\n",
              "      <td>17995.405220</td>\n",
              "      <td>7.493279</td>\n",
              "      <td>323.379987</td>\n",
              "      <td>459.865512</td>\n",
              "      <td>14.363661</td>\n",
              "      <td>16.291505</td>\n",
              "      <td>3.687995</td>\n",
              "      <td>0</td>\n",
              "    </tr>\n",
              "    <tr>\n",
              "      <th>2008</th>\n",
              "      <td>6.946718</td>\n",
              "      <td>214.170043</td>\n",
              "      <td>32946.567520</td>\n",
              "      <td>5.484258</td>\n",
              "      <td>333.439570</td>\n",
              "      <td>318.883636</td>\n",
              "      <td>12.809956</td>\n",
              "      <td>15.684877</td>\n",
              "      <td>4.934986</td>\n",
              "      <td>0</td>\n",
              "    </tr>\n",
              "    <tr>\n",
              "      <th>2009</th>\n",
              "      <td>7.783306</td>\n",
              "      <td>196.815952</td>\n",
              "      <td>24789.354730</td>\n",
              "      <td>6.548497</td>\n",
              "      <td>331.036776</td>\n",
              "      <td>372.764982</td>\n",
              "      <td>12.066182</td>\n",
              "      <td>14.343161</td>\n",
              "      <td>5.045620</td>\n",
              "      <td>0</td>\n",
              "    </tr>\n",
              "    <tr>\n",
              "      <th>2010</th>\n",
              "      <td>5.803497</td>\n",
              "      <td>193.200991</td>\n",
              "      <td>19451.767600</td>\n",
              "      <td>4.146601</td>\n",
              "      <td>255.976746</td>\n",
              "      <td>365.477618</td>\n",
              "      <td>14.920616</td>\n",
              "      <td>8.577013</td>\n",
              "      <td>2.181714</td>\n",
              "      <td>1</td>\n",
              "    </tr>\n",
              "  </tbody>\n",
              "</table>\n",
              "<p>2011 rows × 10 columns</p>\n",
              "</div>"
            ],
            "text/plain": [
              "            ph    Hardness  ...  Turbidity  Potability\n",
              "0     7.899452  210.734124  ...   2.853767           1\n",
              "1     6.145148  197.541072  ...   4.600886           0\n",
              "2     5.036454  190.164520  ...   3.534665           1\n",
              "3     8.969697  195.744765  ...   3.983099           0\n",
              "4     8.285072  151.573778  ...   4.274661           1\n",
              "...        ...         ...  ...        ...         ...\n",
              "2006  7.058866  191.548401  ...   3.937334           1\n",
              "2007  8.281121  227.654351  ...   3.687995           0\n",
              "2008  6.946718  214.170043  ...   4.934986           0\n",
              "2009  7.783306  196.815952  ...   5.045620           0\n",
              "2010  5.803497  193.200991  ...   2.181714           1\n",
              "\n",
              "[2011 rows x 10 columns]"
            ]
          },
          "metadata": {},
          "execution_count": 8
        }
      ]
    },
    {
      "cell_type": "code",
      "metadata": {
        "colab": {
          "base_uri": "https://localhost:8080/",
          "height": 398
        },
        "id": "M2wTgv9cJejU",
        "outputId": "b0f37862-bcfd-42d8-93ff-b1fbd65f301d"
      },
      "source": [
        "import numpy as np\n",
        "import matplotlib.pyplot as plt\n",
        "import pandas as pd\n",
        "import time\n",
        "from sklearn.metrics import accuracy_score, confusion_matrix,mean_squared_error,mean_absolute_error\n",
        "from sklearn.metrics import confusion_matrix\n",
        "\n",
        "from sklearn.neighbors import KNeighborsClassifier\n",
        "from sklearn.tree import DecisionTreeClassifier\n",
        "from sklearn.naive_bayes import GaussianNB, MultinomialNB, ComplementNB, BernoulliNB\n",
        "\n",
        "from sklearn.neighbors import KNeighborsRegressor\n",
        "from sklearn.tree import DecisionTreeRegressor\n",
        "\n",
        "from sklearn.ensemble import BaggingRegressor\n",
        "from sklearn.model_selection import train_test_split\n",
        "from sklearn.preprocessing import StandardScaler\n",
        "from sklearn import tree\n",
        "from google.colab import files\n",
        "\n",
        "water_df = pd.read_excel('water_potability.xlsx')\n",
        "\n",
        "water_np = water_df.to_numpy() #(2011,10)\n",
        "\n",
        "\n",
        "#split data into X dataset (water samples and their 9 attributes) \n",
        "#and y_values pair (potability found in last column)\n",
        "X = water_np[:,0:9] #(2011, 9) 2-d array\n",
        "y = water_np[:,9]   #(2011, 1) 1-d\n",
        "\n",
        "# 80% by 20% row split = 1608, 403\n",
        "# 90% by 10% row split = 1809, 202\n",
        "# random_state=42, popular int random seed (controls randomness)\n",
        "\n",
        "rs = 42  #Popular/common int value for random_state 0 and 42\n",
        "\n",
        "#testing 3 sizes of data set splits in all algorithms\n",
        "x70_train, x30_test, y70_train, y30_test = train_test_split(X, y, test_size=0.3, train_size = .7, random_state=rs)\n",
        "x80_train, x20_test, y80_train, y20_test = train_test_split(X, y, test_size=0.2, train_size = .8, random_state=rs)\n",
        "x90_train, x10_test, y90_train, y10_test = train_test_split(X, y, test_size=0.1, train_size = .9, random_state=rs)\n"
      ],
      "execution_count": null,
      "outputs": [
        {
          "output_type": "error",
          "ename": "FileNotFoundError",
          "evalue": "ignored",
          "traceback": [
            "\u001b[0;31m---------------------------------------------------------------------------\u001b[0m",
            "\u001b[0;31mFileNotFoundError\u001b[0m                         Traceback (most recent call last)",
            "\u001b[0;32m<ipython-input-2-45c6c61893a8>\u001b[0m in \u001b[0;36m<module>\u001b[0;34m()\u001b[0m\n\u001b[1;32m     19\u001b[0m \u001b[0;32mfrom\u001b[0m \u001b[0mgoogle\u001b[0m\u001b[0;34m.\u001b[0m\u001b[0mcolab\u001b[0m \u001b[0;32mimport\u001b[0m \u001b[0mfiles\u001b[0m\u001b[0;34m\u001b[0m\u001b[0;34m\u001b[0m\u001b[0m\n\u001b[1;32m     20\u001b[0m \u001b[0;34m\u001b[0m\u001b[0m\n\u001b[0;32m---> 21\u001b[0;31m \u001b[0mwater_df\u001b[0m \u001b[0;34m=\u001b[0m \u001b[0mpd\u001b[0m\u001b[0;34m.\u001b[0m\u001b[0mread_excel\u001b[0m\u001b[0;34m(\u001b[0m\u001b[0;34m'water_potability.xlsx'\u001b[0m\u001b[0;34m)\u001b[0m\u001b[0;34m\u001b[0m\u001b[0;34m\u001b[0m\u001b[0m\n\u001b[0m\u001b[1;32m     22\u001b[0m \u001b[0;34m\u001b[0m\u001b[0m\n\u001b[1;32m     23\u001b[0m \u001b[0mwater_np\u001b[0m \u001b[0;34m=\u001b[0m \u001b[0mwater_df\u001b[0m\u001b[0;34m.\u001b[0m\u001b[0mto_numpy\u001b[0m\u001b[0;34m(\u001b[0m\u001b[0;34m)\u001b[0m \u001b[0;31m#(2011,10)\u001b[0m\u001b[0;34m\u001b[0m\u001b[0;34m\u001b[0m\u001b[0m\n",
            "\u001b[0;32m/usr/local/lib/python3.7/dist-packages/pandas/util/_decorators.py\u001b[0m in \u001b[0;36mwrapper\u001b[0;34m(*args, **kwargs)\u001b[0m\n\u001b[1;32m    294\u001b[0m                 )\n\u001b[1;32m    295\u001b[0m                 \u001b[0mwarnings\u001b[0m\u001b[0;34m.\u001b[0m\u001b[0mwarn\u001b[0m\u001b[0;34m(\u001b[0m\u001b[0mmsg\u001b[0m\u001b[0;34m,\u001b[0m \u001b[0mFutureWarning\u001b[0m\u001b[0;34m,\u001b[0m \u001b[0mstacklevel\u001b[0m\u001b[0;34m=\u001b[0m\u001b[0mstacklevel\u001b[0m\u001b[0;34m)\u001b[0m\u001b[0;34m\u001b[0m\u001b[0;34m\u001b[0m\u001b[0m\n\u001b[0;32m--> 296\u001b[0;31m             \u001b[0;32mreturn\u001b[0m \u001b[0mfunc\u001b[0m\u001b[0;34m(\u001b[0m\u001b[0;34m*\u001b[0m\u001b[0margs\u001b[0m\u001b[0;34m,\u001b[0m \u001b[0;34m**\u001b[0m\u001b[0mkwargs\u001b[0m\u001b[0;34m)\u001b[0m\u001b[0;34m\u001b[0m\u001b[0;34m\u001b[0m\u001b[0m\n\u001b[0m\u001b[1;32m    297\u001b[0m \u001b[0;34m\u001b[0m\u001b[0m\n\u001b[1;32m    298\u001b[0m         \u001b[0;32mreturn\u001b[0m \u001b[0mwrapper\u001b[0m\u001b[0;34m\u001b[0m\u001b[0;34m\u001b[0m\u001b[0m\n",
            "\u001b[0;32m/usr/local/lib/python3.7/dist-packages/pandas/io/excel/_base.py\u001b[0m in \u001b[0;36mread_excel\u001b[0;34m(io, sheet_name, header, names, index_col, usecols, squeeze, dtype, engine, converters, true_values, false_values, skiprows, nrows, na_values, keep_default_na, na_filter, verbose, parse_dates, date_parser, thousands, comment, skipfooter, convert_float, mangle_dupe_cols)\u001b[0m\n\u001b[1;32m    302\u001b[0m \u001b[0;34m\u001b[0m\u001b[0m\n\u001b[1;32m    303\u001b[0m     \u001b[0;32mif\u001b[0m \u001b[0;32mnot\u001b[0m \u001b[0misinstance\u001b[0m\u001b[0;34m(\u001b[0m\u001b[0mio\u001b[0m\u001b[0;34m,\u001b[0m \u001b[0mExcelFile\u001b[0m\u001b[0;34m)\u001b[0m\u001b[0;34m:\u001b[0m\u001b[0;34m\u001b[0m\u001b[0;34m\u001b[0m\u001b[0m\n\u001b[0;32m--> 304\u001b[0;31m         \u001b[0mio\u001b[0m \u001b[0;34m=\u001b[0m \u001b[0mExcelFile\u001b[0m\u001b[0;34m(\u001b[0m\u001b[0mio\u001b[0m\u001b[0;34m,\u001b[0m \u001b[0mengine\u001b[0m\u001b[0;34m=\u001b[0m\u001b[0mengine\u001b[0m\u001b[0;34m)\u001b[0m\u001b[0;34m\u001b[0m\u001b[0;34m\u001b[0m\u001b[0m\n\u001b[0m\u001b[1;32m    305\u001b[0m     \u001b[0;32melif\u001b[0m \u001b[0mengine\u001b[0m \u001b[0;32mand\u001b[0m \u001b[0mengine\u001b[0m \u001b[0;34m!=\u001b[0m \u001b[0mio\u001b[0m\u001b[0;34m.\u001b[0m\u001b[0mengine\u001b[0m\u001b[0;34m:\u001b[0m\u001b[0;34m\u001b[0m\u001b[0;34m\u001b[0m\u001b[0m\n\u001b[1;32m    306\u001b[0m         raise ValueError(\n",
            "\u001b[0;32m/usr/local/lib/python3.7/dist-packages/pandas/io/excel/_base.py\u001b[0m in \u001b[0;36m__init__\u001b[0;34m(self, path_or_buffer, engine)\u001b[0m\n\u001b[1;32m    865\u001b[0m         \u001b[0mself\u001b[0m\u001b[0;34m.\u001b[0m\u001b[0m_io\u001b[0m \u001b[0;34m=\u001b[0m \u001b[0mstringify_path\u001b[0m\u001b[0;34m(\u001b[0m\u001b[0mpath_or_buffer\u001b[0m\u001b[0;34m)\u001b[0m\u001b[0;34m\u001b[0m\u001b[0;34m\u001b[0m\u001b[0m\n\u001b[1;32m    866\u001b[0m \u001b[0;34m\u001b[0m\u001b[0m\n\u001b[0;32m--> 867\u001b[0;31m         \u001b[0mself\u001b[0m\u001b[0;34m.\u001b[0m\u001b[0m_reader\u001b[0m \u001b[0;34m=\u001b[0m \u001b[0mself\u001b[0m\u001b[0;34m.\u001b[0m\u001b[0m_engines\u001b[0m\u001b[0;34m[\u001b[0m\u001b[0mengine\u001b[0m\u001b[0;34m]\u001b[0m\u001b[0;34m(\u001b[0m\u001b[0mself\u001b[0m\u001b[0;34m.\u001b[0m\u001b[0m_io\u001b[0m\u001b[0;34m)\u001b[0m\u001b[0;34m\u001b[0m\u001b[0;34m\u001b[0m\u001b[0m\n\u001b[0m\u001b[1;32m    868\u001b[0m \u001b[0;34m\u001b[0m\u001b[0m\n\u001b[1;32m    869\u001b[0m     \u001b[0;32mdef\u001b[0m \u001b[0m__fspath__\u001b[0m\u001b[0;34m(\u001b[0m\u001b[0mself\u001b[0m\u001b[0;34m)\u001b[0m\u001b[0;34m:\u001b[0m\u001b[0;34m\u001b[0m\u001b[0;34m\u001b[0m\u001b[0m\n",
            "\u001b[0;32m/usr/local/lib/python3.7/dist-packages/pandas/io/excel/_xlrd.py\u001b[0m in \u001b[0;36m__init__\u001b[0;34m(self, filepath_or_buffer)\u001b[0m\n\u001b[1;32m     20\u001b[0m         \u001b[0merr_msg\u001b[0m \u001b[0;34m=\u001b[0m \u001b[0;34m\"Install xlrd >= 1.0.0 for Excel support\"\u001b[0m\u001b[0;34m\u001b[0m\u001b[0;34m\u001b[0m\u001b[0m\n\u001b[1;32m     21\u001b[0m         \u001b[0mimport_optional_dependency\u001b[0m\u001b[0;34m(\u001b[0m\u001b[0;34m\"xlrd\"\u001b[0m\u001b[0;34m,\u001b[0m \u001b[0mextra\u001b[0m\u001b[0;34m=\u001b[0m\u001b[0merr_msg\u001b[0m\u001b[0;34m)\u001b[0m\u001b[0;34m\u001b[0m\u001b[0;34m\u001b[0m\u001b[0m\n\u001b[0;32m---> 22\u001b[0;31m         \u001b[0msuper\u001b[0m\u001b[0;34m(\u001b[0m\u001b[0;34m)\u001b[0m\u001b[0;34m.\u001b[0m\u001b[0m__init__\u001b[0m\u001b[0;34m(\u001b[0m\u001b[0mfilepath_or_buffer\u001b[0m\u001b[0;34m)\u001b[0m\u001b[0;34m\u001b[0m\u001b[0;34m\u001b[0m\u001b[0m\n\u001b[0m\u001b[1;32m     23\u001b[0m \u001b[0;34m\u001b[0m\u001b[0m\n\u001b[1;32m     24\u001b[0m     \u001b[0;34m@\u001b[0m\u001b[0mproperty\u001b[0m\u001b[0;34m\u001b[0m\u001b[0;34m\u001b[0m\u001b[0m\n",
            "\u001b[0;32m/usr/local/lib/python3.7/dist-packages/pandas/io/excel/_base.py\u001b[0m in \u001b[0;36m__init__\u001b[0;34m(self, filepath_or_buffer)\u001b[0m\n\u001b[1;32m    351\u001b[0m             \u001b[0mself\u001b[0m\u001b[0;34m.\u001b[0m\u001b[0mbook\u001b[0m \u001b[0;34m=\u001b[0m \u001b[0mself\u001b[0m\u001b[0;34m.\u001b[0m\u001b[0mload_workbook\u001b[0m\u001b[0;34m(\u001b[0m\u001b[0mfilepath_or_buffer\u001b[0m\u001b[0;34m)\u001b[0m\u001b[0;34m\u001b[0m\u001b[0;34m\u001b[0m\u001b[0m\n\u001b[1;32m    352\u001b[0m         \u001b[0;32melif\u001b[0m \u001b[0misinstance\u001b[0m\u001b[0;34m(\u001b[0m\u001b[0mfilepath_or_buffer\u001b[0m\u001b[0;34m,\u001b[0m \u001b[0mstr\u001b[0m\u001b[0;34m)\u001b[0m\u001b[0;34m:\u001b[0m\u001b[0;34m\u001b[0m\u001b[0;34m\u001b[0m\u001b[0m\n\u001b[0;32m--> 353\u001b[0;31m             \u001b[0mself\u001b[0m\u001b[0;34m.\u001b[0m\u001b[0mbook\u001b[0m \u001b[0;34m=\u001b[0m \u001b[0mself\u001b[0m\u001b[0;34m.\u001b[0m\u001b[0mload_workbook\u001b[0m\u001b[0;34m(\u001b[0m\u001b[0mfilepath_or_buffer\u001b[0m\u001b[0;34m)\u001b[0m\u001b[0;34m\u001b[0m\u001b[0;34m\u001b[0m\u001b[0m\n\u001b[0m\u001b[1;32m    354\u001b[0m         \u001b[0;32melif\u001b[0m \u001b[0misinstance\u001b[0m\u001b[0;34m(\u001b[0m\u001b[0mfilepath_or_buffer\u001b[0m\u001b[0;34m,\u001b[0m \u001b[0mbytes\u001b[0m\u001b[0;34m)\u001b[0m\u001b[0;34m:\u001b[0m\u001b[0;34m\u001b[0m\u001b[0;34m\u001b[0m\u001b[0m\n\u001b[1;32m    355\u001b[0m             \u001b[0mself\u001b[0m\u001b[0;34m.\u001b[0m\u001b[0mbook\u001b[0m \u001b[0;34m=\u001b[0m \u001b[0mself\u001b[0m\u001b[0;34m.\u001b[0m\u001b[0mload_workbook\u001b[0m\u001b[0;34m(\u001b[0m\u001b[0mBytesIO\u001b[0m\u001b[0;34m(\u001b[0m\u001b[0mfilepath_or_buffer\u001b[0m\u001b[0;34m)\u001b[0m\u001b[0;34m)\u001b[0m\u001b[0;34m\u001b[0m\u001b[0;34m\u001b[0m\u001b[0m\n",
            "\u001b[0;32m/usr/local/lib/python3.7/dist-packages/pandas/io/excel/_xlrd.py\u001b[0m in \u001b[0;36mload_workbook\u001b[0;34m(self, filepath_or_buffer)\u001b[0m\n\u001b[1;32m     35\u001b[0m             \u001b[0;32mreturn\u001b[0m \u001b[0mopen_workbook\u001b[0m\u001b[0;34m(\u001b[0m\u001b[0mfile_contents\u001b[0m\u001b[0;34m=\u001b[0m\u001b[0mdata\u001b[0m\u001b[0;34m)\u001b[0m\u001b[0;34m\u001b[0m\u001b[0;34m\u001b[0m\u001b[0m\n\u001b[1;32m     36\u001b[0m         \u001b[0;32melse\u001b[0m\u001b[0;34m:\u001b[0m\u001b[0;34m\u001b[0m\u001b[0;34m\u001b[0m\u001b[0m\n\u001b[0;32m---> 37\u001b[0;31m             \u001b[0;32mreturn\u001b[0m \u001b[0mopen_workbook\u001b[0m\u001b[0;34m(\u001b[0m\u001b[0mfilepath_or_buffer\u001b[0m\u001b[0;34m)\u001b[0m\u001b[0;34m\u001b[0m\u001b[0;34m\u001b[0m\u001b[0m\n\u001b[0m\u001b[1;32m     38\u001b[0m \u001b[0;34m\u001b[0m\u001b[0m\n\u001b[1;32m     39\u001b[0m     \u001b[0;34m@\u001b[0m\u001b[0mproperty\u001b[0m\u001b[0;34m\u001b[0m\u001b[0;34m\u001b[0m\u001b[0m\n",
            "\u001b[0;32m/usr/local/lib/python3.7/dist-packages/xlrd/__init__.py\u001b[0m in \u001b[0;36mopen_workbook\u001b[0;34m(filename, logfile, verbosity, use_mmap, file_contents, encoding_override, formatting_info, on_demand, ragged_rows)\u001b[0m\n\u001b[1;32m    114\u001b[0m         \u001b[0mpeek\u001b[0m \u001b[0;34m=\u001b[0m \u001b[0mfile_contents\u001b[0m\u001b[0;34m[\u001b[0m\u001b[0;34m:\u001b[0m\u001b[0mpeeksz\u001b[0m\u001b[0;34m]\u001b[0m\u001b[0;34m\u001b[0m\u001b[0;34m\u001b[0m\u001b[0m\n\u001b[1;32m    115\u001b[0m     \u001b[0;32melse\u001b[0m\u001b[0;34m:\u001b[0m\u001b[0;34m\u001b[0m\u001b[0;34m\u001b[0m\u001b[0m\n\u001b[0;32m--> 116\u001b[0;31m         \u001b[0;32mwith\u001b[0m \u001b[0mopen\u001b[0m\u001b[0;34m(\u001b[0m\u001b[0mfilename\u001b[0m\u001b[0;34m,\u001b[0m \u001b[0;34m\"rb\"\u001b[0m\u001b[0;34m)\u001b[0m \u001b[0;32mas\u001b[0m \u001b[0mf\u001b[0m\u001b[0;34m:\u001b[0m\u001b[0;34m\u001b[0m\u001b[0;34m\u001b[0m\u001b[0m\n\u001b[0m\u001b[1;32m    117\u001b[0m             \u001b[0mpeek\u001b[0m \u001b[0;34m=\u001b[0m \u001b[0mf\u001b[0m\u001b[0;34m.\u001b[0m\u001b[0mread\u001b[0m\u001b[0;34m(\u001b[0m\u001b[0mpeeksz\u001b[0m\u001b[0;34m)\u001b[0m\u001b[0;34m\u001b[0m\u001b[0;34m\u001b[0m\u001b[0m\n\u001b[1;32m    118\u001b[0m     \u001b[0;32mif\u001b[0m \u001b[0mpeek\u001b[0m \u001b[0;34m==\u001b[0m \u001b[0;34mb\"PK\\x03\\x04\"\u001b[0m\u001b[0;34m:\u001b[0m \u001b[0;31m# a ZIP file\u001b[0m\u001b[0;34m\u001b[0m\u001b[0;34m\u001b[0m\u001b[0m\n",
            "\u001b[0;31mFileNotFoundError\u001b[0m: [Errno 2] No such file or directory: 'water_potability.xlsx'"
          ]
        }
      ]
    },
    {
      "cell_type": "markdown",
      "metadata": {
        "id": "pgOW6dJnv1Rp"
      },
      "source": [
        "# **Part 3.** \n",
        "Write a report and submit it as an additional file in word or pdf format. Your report must include (at least) the following items:\n",
        "\n",
        "Problem description\n",
        "Algorithms implemented\n",
        "Experimental results, including accuracies or mean squared errors and running times for each algorithm and parameter choice. Use tables and/or plots to illustrate this.\n",
        "Discussion of results. How do algorithms compare in terms of accuracy/MSE and running times? What parameter choices work best? What parameter choices result in overfitting?\n",
        "Conclusions. What did you learn from the assignment?"
      ]
    },
    {
      "cell_type": "markdown",
      "metadata": {
        "id": "tCSuHfV_vz7M"
      },
      "source": [
        "# **Report uploaded with lab on Word Doc** "
      ]
    }
  ]
}